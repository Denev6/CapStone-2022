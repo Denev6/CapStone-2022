{
  "nbformat": 4,
  "nbformat_minor": 0,
  "metadata": {
    "colab": {
      "provenance": [],
      "machine_shape": "hm",
      "include_colab_link": true
    },
    "kernelspec": {
      "name": "python3",
      "display_name": "Python 3"
    },
    "language_info": {
      "name": "python"
    },
    "accelerator": "GPU",
    "gpuClass": "premium",
    "widgets": {
      "application/vnd.jupyter.widget-state+json": {
        "3c6f77d03a8c44be8457da16a2667428": {
          "model_module": "@jupyter-widgets/controls",
          "model_name": "HBoxModel",
          "model_module_version": "1.5.0",
          "state": {
            "_dom_classes": [],
            "_model_module": "@jupyter-widgets/controls",
            "_model_module_version": "1.5.0",
            "_model_name": "HBoxModel",
            "_view_count": null,
            "_view_module": "@jupyter-widgets/controls",
            "_view_module_version": "1.5.0",
            "_view_name": "HBoxView",
            "box_style": "",
            "children": [
              "IPY_MODEL_c62e599c5ef54a4390a84a1acc3a3f67",
              "IPY_MODEL_35784d8b5de64acc8e57d4c54ba43d7b",
              "IPY_MODEL_b932f958dc304e04a4348aded7c7ea56"
            ],
            "layout": "IPY_MODEL_fe112aa4fb964603aa63b0a7b0fff8c3"
          }
        },
        "c62e599c5ef54a4390a84a1acc3a3f67": {
          "model_module": "@jupyter-widgets/controls",
          "model_name": "HTMLModel",
          "model_module_version": "1.5.0",
          "state": {
            "_dom_classes": [],
            "_model_module": "@jupyter-widgets/controls",
            "_model_module_version": "1.5.0",
            "_model_name": "HTMLModel",
            "_view_count": null,
            "_view_module": "@jupyter-widgets/controls",
            "_view_module_version": "1.5.0",
            "_view_name": "HTMLView",
            "description": "",
            "description_tooltip": null,
            "layout": "IPY_MODEL_2b9ae11538974a0e96608dd5fb747e6b",
            "placeholder": "​",
            "style": "IPY_MODEL_03df6a915ef7411982ab7431d528a5cb",
            "value": "100%"
          }
        },
        "35784d8b5de64acc8e57d4c54ba43d7b": {
          "model_module": "@jupyter-widgets/controls",
          "model_name": "FloatProgressModel",
          "model_module_version": "1.5.0",
          "state": {
            "_dom_classes": [],
            "_model_module": "@jupyter-widgets/controls",
            "_model_module_version": "1.5.0",
            "_model_name": "FloatProgressModel",
            "_view_count": null,
            "_view_module": "@jupyter-widgets/controls",
            "_view_module_version": "1.5.0",
            "_view_name": "ProgressView",
            "bar_style": "success",
            "description": "",
            "description_tooltip": null,
            "layout": "IPY_MODEL_aba67883a8714e4398eeb2db66f08d0b",
            "max": 1,
            "min": 0,
            "orientation": "horizontal",
            "style": "IPY_MODEL_4e2e63140530492fb56cf01e67a51f0e",
            "value": 1
          }
        },
        "b932f958dc304e04a4348aded7c7ea56": {
          "model_module": "@jupyter-widgets/controls",
          "model_name": "HTMLModel",
          "model_module_version": "1.5.0",
          "state": {
            "_dom_classes": [],
            "_model_module": "@jupyter-widgets/controls",
            "_model_module_version": "1.5.0",
            "_model_name": "HTMLModel",
            "_view_count": null,
            "_view_module": "@jupyter-widgets/controls",
            "_view_module_version": "1.5.0",
            "_view_name": "HTMLView",
            "description": "",
            "description_tooltip": null,
            "layout": "IPY_MODEL_33dfa16e900f458b9ca64a4f86d5cf04",
            "placeholder": "​",
            "style": "IPY_MODEL_d2dc8d75c03b49f9944f340a93687ac2",
            "value": " 1/1 [26:27&lt;00:00, 1587.61s/it]"
          }
        },
        "fe112aa4fb964603aa63b0a7b0fff8c3": {
          "model_module": "@jupyter-widgets/base",
          "model_name": "LayoutModel",
          "model_module_version": "1.2.0",
          "state": {
            "_model_module": "@jupyter-widgets/base",
            "_model_module_version": "1.2.0",
            "_model_name": "LayoutModel",
            "_view_count": null,
            "_view_module": "@jupyter-widgets/base",
            "_view_module_version": "1.2.0",
            "_view_name": "LayoutView",
            "align_content": null,
            "align_items": null,
            "align_self": null,
            "border": null,
            "bottom": null,
            "display": null,
            "flex": null,
            "flex_flow": null,
            "grid_area": null,
            "grid_auto_columns": null,
            "grid_auto_flow": null,
            "grid_auto_rows": null,
            "grid_column": null,
            "grid_gap": null,
            "grid_row": null,
            "grid_template_areas": null,
            "grid_template_columns": null,
            "grid_template_rows": null,
            "height": null,
            "justify_content": null,
            "justify_items": null,
            "left": null,
            "margin": null,
            "max_height": null,
            "max_width": null,
            "min_height": null,
            "min_width": null,
            "object_fit": null,
            "object_position": null,
            "order": null,
            "overflow": null,
            "overflow_x": null,
            "overflow_y": null,
            "padding": null,
            "right": null,
            "top": null,
            "visibility": null,
            "width": null
          }
        },
        "2b9ae11538974a0e96608dd5fb747e6b": {
          "model_module": "@jupyter-widgets/base",
          "model_name": "LayoutModel",
          "model_module_version": "1.2.0",
          "state": {
            "_model_module": "@jupyter-widgets/base",
            "_model_module_version": "1.2.0",
            "_model_name": "LayoutModel",
            "_view_count": null,
            "_view_module": "@jupyter-widgets/base",
            "_view_module_version": "1.2.0",
            "_view_name": "LayoutView",
            "align_content": null,
            "align_items": null,
            "align_self": null,
            "border": null,
            "bottom": null,
            "display": null,
            "flex": null,
            "flex_flow": null,
            "grid_area": null,
            "grid_auto_columns": null,
            "grid_auto_flow": null,
            "grid_auto_rows": null,
            "grid_column": null,
            "grid_gap": null,
            "grid_row": null,
            "grid_template_areas": null,
            "grid_template_columns": null,
            "grid_template_rows": null,
            "height": null,
            "justify_content": null,
            "justify_items": null,
            "left": null,
            "margin": null,
            "max_height": null,
            "max_width": null,
            "min_height": null,
            "min_width": null,
            "object_fit": null,
            "object_position": null,
            "order": null,
            "overflow": null,
            "overflow_x": null,
            "overflow_y": null,
            "padding": null,
            "right": null,
            "top": null,
            "visibility": null,
            "width": null
          }
        },
        "03df6a915ef7411982ab7431d528a5cb": {
          "model_module": "@jupyter-widgets/controls",
          "model_name": "DescriptionStyleModel",
          "model_module_version": "1.5.0",
          "state": {
            "_model_module": "@jupyter-widgets/controls",
            "_model_module_version": "1.5.0",
            "_model_name": "DescriptionStyleModel",
            "_view_count": null,
            "_view_module": "@jupyter-widgets/base",
            "_view_module_version": "1.2.0",
            "_view_name": "StyleView",
            "description_width": ""
          }
        },
        "aba67883a8714e4398eeb2db66f08d0b": {
          "model_module": "@jupyter-widgets/base",
          "model_name": "LayoutModel",
          "model_module_version": "1.2.0",
          "state": {
            "_model_module": "@jupyter-widgets/base",
            "_model_module_version": "1.2.0",
            "_model_name": "LayoutModel",
            "_view_count": null,
            "_view_module": "@jupyter-widgets/base",
            "_view_module_version": "1.2.0",
            "_view_name": "LayoutView",
            "align_content": null,
            "align_items": null,
            "align_self": null,
            "border": null,
            "bottom": null,
            "display": null,
            "flex": null,
            "flex_flow": null,
            "grid_area": null,
            "grid_auto_columns": null,
            "grid_auto_flow": null,
            "grid_auto_rows": null,
            "grid_column": null,
            "grid_gap": null,
            "grid_row": null,
            "grid_template_areas": null,
            "grid_template_columns": null,
            "grid_template_rows": null,
            "height": null,
            "justify_content": null,
            "justify_items": null,
            "left": null,
            "margin": null,
            "max_height": null,
            "max_width": null,
            "min_height": null,
            "min_width": null,
            "object_fit": null,
            "object_position": null,
            "order": null,
            "overflow": null,
            "overflow_x": null,
            "overflow_y": null,
            "padding": null,
            "right": null,
            "top": null,
            "visibility": null,
            "width": null
          }
        },
        "4e2e63140530492fb56cf01e67a51f0e": {
          "model_module": "@jupyter-widgets/controls",
          "model_name": "ProgressStyleModel",
          "model_module_version": "1.5.0",
          "state": {
            "_model_module": "@jupyter-widgets/controls",
            "_model_module_version": "1.5.0",
            "_model_name": "ProgressStyleModel",
            "_view_count": null,
            "_view_module": "@jupyter-widgets/base",
            "_view_module_version": "1.2.0",
            "_view_name": "StyleView",
            "bar_color": null,
            "description_width": ""
          }
        },
        "33dfa16e900f458b9ca64a4f86d5cf04": {
          "model_module": "@jupyter-widgets/base",
          "model_name": "LayoutModel",
          "model_module_version": "1.2.0",
          "state": {
            "_model_module": "@jupyter-widgets/base",
            "_model_module_version": "1.2.0",
            "_model_name": "LayoutModel",
            "_view_count": null,
            "_view_module": "@jupyter-widgets/base",
            "_view_module_version": "1.2.0",
            "_view_name": "LayoutView",
            "align_content": null,
            "align_items": null,
            "align_self": null,
            "border": null,
            "bottom": null,
            "display": null,
            "flex": null,
            "flex_flow": null,
            "grid_area": null,
            "grid_auto_columns": null,
            "grid_auto_flow": null,
            "grid_auto_rows": null,
            "grid_column": null,
            "grid_gap": null,
            "grid_row": null,
            "grid_template_areas": null,
            "grid_template_columns": null,
            "grid_template_rows": null,
            "height": null,
            "justify_content": null,
            "justify_items": null,
            "left": null,
            "margin": null,
            "max_height": null,
            "max_width": null,
            "min_height": null,
            "min_width": null,
            "object_fit": null,
            "object_position": null,
            "order": null,
            "overflow": null,
            "overflow_x": null,
            "overflow_y": null,
            "padding": null,
            "right": null,
            "top": null,
            "visibility": null,
            "width": null
          }
        },
        "d2dc8d75c03b49f9944f340a93687ac2": {
          "model_module": "@jupyter-widgets/controls",
          "model_name": "DescriptionStyleModel",
          "model_module_version": "1.5.0",
          "state": {
            "_model_module": "@jupyter-widgets/controls",
            "_model_module_version": "1.5.0",
            "_model_name": "DescriptionStyleModel",
            "_view_count": null,
            "_view_module": "@jupyter-widgets/base",
            "_view_module_version": "1.2.0",
            "_view_name": "StyleView",
            "description_width": ""
          }
        }
      }
    }
  },
  "cells": [
    {
      "cell_type": "markdown",
      "metadata": {
        "id": "view-in-github",
        "colab_type": "text"
      },
      "source": [
        "<a href=\"https://colab.research.google.com/github/Denev6/CapStone/blob/main/base.ipynb\" target=\"_parent\"><img src=\"https://colab.research.google.com/assets/colab-badge.svg\" alt=\"Open In Colab\"/></a>"
      ]
    },
    {
      "cell_type": "code",
      "source": [
        "!pip install torchsummary"
      ],
      "metadata": {
        "id": "jdI4496Oi5le",
        "colab": {
          "base_uri": "https://localhost:8080/"
        },
        "outputId": "581778ee-a705-445b-8a89-a666576d4bf9"
      },
      "execution_count": 1,
      "outputs": [
        {
          "output_type": "stream",
          "name": "stdout",
          "text": [
            "Looking in indexes: https://pypi.org/simple, https://us-python.pkg.dev/colab-wheels/public/simple/\n",
            "Requirement already satisfied: torchsummary in /usr/local/lib/python3.8/dist-packages (1.5.1)\n"
          ]
        }
      ]
    },
    {
      "cell_type": "markdown",
      "source": [
        "# CNN 살펴보기"
      ],
      "metadata": {
        "id": "1pzHbJmEgB0T"
      }
    },
    {
      "cell_type": "code",
      "execution_count": 2,
      "metadata": {
        "id": "Cz95IbIgaQyI"
      },
      "outputs": [],
      "source": [
        "import os\n",
        "import gc\n",
        "import pickle\n",
        "import random\n",
        "from google.colab import drive\n",
        "# import warnings\n",
        "\n",
        "import numpy as np \n",
        "import pandas as pd\n",
        "from tqdm.auto import tqdm, trange\n",
        "import torch\n",
        "import torch.nn as nn\n",
        "import torch.optim as optim\n",
        "import torch.nn.functional as F\n",
        "from torch.utils.data import Dataset, DataLoader\n",
        "from torchsummary import summary\n",
        "from sklearn.metrics import (\n",
        "    f1_score,\n",
        "    accuracy_score,\n",
        "    recall_score,\n",
        "    precision_score,\n",
        "    confusion_matrix,\n",
        ")"
      ]
    },
    {
      "cell_type": "code",
      "source": [
        "drive.mount(\"/content/drive\")\n",
        "# warnings.simplefilter(\"ignore\")\n",
        "\n",
        "def clear():\n",
        "    gc.collect()\n",
        "    torch.cuda.empty_cache()\n",
        "\n",
        "def join_path(*args):\n",
        "    return os.path.join(\"/content/drive/MyDrive\", *args)\n",
        "\n",
        "train_csv = join_path(\"Capstone\", \"data\", \"train.pk\")\n",
        "dev_csv = join_path(\"Capstone\", \"data\", \"dev.pk\")\n",
        "test_csv = join_path(\"Capstone\", \"data\", \"test.pk\")\n",
        "\n",
        "train_data = pickle.load(open(train_csv, 'rb'))\n",
        "dev_data = pickle.load(open(dev_csv, 'rb'))\n",
        "test_data = pickle.load(open(test_csv, 'rb'))\n",
        "\n",
        "DEVICE = \"cuda\" if torch.cuda.is_available() else \"cpu\"\n",
        "BATCH_SIZE = 8\n",
        "EPOCHS = 1\n",
        "LEARNING_RATE = 1e-6\n",
        "MODEL_PATH = join_path(\"tdcn.pth\")"
      ],
      "metadata": {
        "id": "0DFNEI_IdzGt",
        "colab": {
          "base_uri": "https://localhost:8080/"
        },
        "outputId": "a519e488-b361-4a65-b69a-fa2cab79cc17"
      },
      "execution_count": 3,
      "outputs": [
        {
          "output_type": "stream",
          "name": "stdout",
          "text": [
            "Mounted at /content/drive\n"
          ]
        }
      ]
    },
    {
      "cell_type": "markdown",
      "source": [
        "## Dataset"
      ],
      "metadata": {
        "id": "vvrSe1oGcoe2"
      }
    },
    {
      "cell_type": "code",
      "source": [
        "class CustomDataset(Dataset):\n",
        "    \"\"\"데이터 처리\"\"\"\n",
        "    def __init__(self, data, up_count=500, data_size=5000):\n",
        "        self.data = {}\n",
        "        for k, v in data.items():\n",
        "            tmp = {\n",
        "                'pose' : torch.FloatTensor(v['pose'].astype('float').values),\n",
        "                'features' : torch.FloatTensor(v['features'].astype('float').values),\n",
        "                'y' : torch.IntTensor([v['y']])\n",
        "            }\n",
        "            self.data[k] = tmp\n",
        "        self.up_count = up_count\n",
        "        self.data_size = data_size\n",
        "        \n",
        "    def __len__(self):\n",
        "        return len(self.data) * self.up_count\n",
        "\n",
        "    def __getitem__(self, index):\n",
        "        target_data = random.choice(list(self.data.values()))\n",
        "        x1 = target_data['features']\n",
        "        x2 = target_data['pose']\n",
        "        cut = random.randrange(0, len(x1)-self.data_size)\n",
        "        x1 = x1[cut: cut + self.data_size]\n",
        "        x2 = x2[cut: cut + self.data_size]\n",
        "        y = target_data['y']\n",
        "        return (x1, x2), y"
      ],
      "metadata": {
        "id": "Jd668LWGd01N"
      },
      "execution_count": 4,
      "outputs": []
    },
    {
      "cell_type": "code",
      "source": [
        "# 데이터셋\n",
        "training_dataset = CustomDataset(train_data)\n",
        "dev_dataset = CustomDataset(dev_data, up_count=1)\n",
        "test_dataset = CustomDataset(test_data, up_count=10)\n",
        "\n",
        "train_dataloader = DataLoader(training_dataset, batch_size=BATCH_SIZE)\n",
        "dev_dataloader = DataLoader(dev_dataset, batch_size=BATCH_SIZE)\n",
        "test_dataloader = DataLoader(test_dataset, batch_size=BATCH_SIZE)"
      ],
      "metadata": {
        "id": "FO_wO7yLnvzi",
        "colab": {
          "base_uri": "https://localhost:8080/"
        },
        "outputId": "7df1b53f-f6e3-4c2e-9a6a-5efc8a4309b5"
      },
      "execution_count": 5,
      "outputs": [
        {
          "output_type": "stream",
          "name": "stderr",
          "text": [
            "<ipython-input-4-803cc82a778a>:9: DeprecationWarning: an integer is required (got type numpy.float64).  Implicit conversion to integers using __int__ is deprecated, and may be removed in a future version of Python.\n",
            "  'y' : torch.IntTensor([v['y']])\n"
          ]
        }
      ]
    },
    {
      "cell_type": "markdown",
      "source": [
        "## CNN"
      ],
      "metadata": {
        "id": "zXM3rNbgcqaK"
      }
    },
    {
      "cell_type": "code",
      "source": [
        "class BaseModel(nn.Module):\n",
        "    def __init__(self, num_label=2):\n",
        "        super(BaseModel, self).__init__()\n",
        "        self.conv = nn.Sequential(\n",
        "            nn.Conv2d(1, 8, kernel_size=(5, 2), dilation=2, padding=\"same\"),\n",
        "            nn.ELU(inplace=True),\n",
        "            nn.MaxPool2d(kernel_size=2, stride=2),\n",
        "            nn.Conv2d(8, 16, kernel_size=(5, 2), dilation=2, padding=\"same\"),\n",
        "            nn.ELU(inplace=True),\n",
        "            nn.MaxPool2d(kernel_size=2, stride=2),\n",
        "            nn.BatchNorm2d(16, affine=True)\n",
        "        )\n",
        "\n",
        "        self.classifier = nn.Sequential(\n",
        "            nn.Flatten(1, -1),\n",
        "            nn.Linear(350000 * 2, 1024),\n",
        "            nn.LeakyReLU(inplace=True),\n",
        "            nn.Linear(1024, 64),\n",
        "            nn.LeakyReLU(inplace=True),\n",
        "            nn.Dropout(p=0.3),\n",
        "            nn.Linear(64, num_label),\n",
        "            nn.Softmax(-1)\n",
        "        )\n",
        "\n",
        "    def forward(self, feat_x, pose_x):\n",
        "        feat_y = self.conv(feat_x)\n",
        "        pose_y = self.conv(pose_x)\n",
        "        out = torch.cat((feat_y, pose_y), dim=-1)\n",
        "        out = self.classifier(out)\n",
        "        return out"
      ],
      "metadata": {
        "id": "5XYPmif7d22I"
      },
      "execution_count": 6,
      "outputs": []
    },
    {
      "cell_type": "code",
      "source": [
        "model = BaseModel(num_label=2)\n",
        "loss_fn = nn.CrossEntropyLoss()\n",
        "optimizer = optim.SGD(model.parameters(), lr=LEARNING_RATE, momentum=0.9)"
      ],
      "metadata": {
        "id": "1w2Z9EPEdKgX"
      },
      "execution_count": 7,
      "outputs": []
    },
    {
      "cell_type": "code",
      "source": [
        "model.to(DEVICE)\n",
        "summary(model, [(1, 5000, 136), (1, 5000, 6)], batch_size=BATCH_SIZE)"
      ],
      "metadata": {
        "id": "QYajyWP5dMU0",
        "colab": {
          "base_uri": "https://localhost:8080/"
        },
        "outputId": "a8b0c8e2-6502-47c8-aea6-ec5f617e686c"
      },
      "execution_count": 8,
      "outputs": [
        {
          "output_type": "stream",
          "name": "stdout",
          "text": [
            "----------------------------------------------------------------\n",
            "        Layer (type)               Output Shape         Param #\n",
            "================================================================\n",
            "            Conv2d-1          [8, 8, 5000, 136]              88\n",
            "               ELU-2          [8, 8, 5000, 136]               0\n",
            "         MaxPool2d-3           [8, 8, 2500, 68]               0\n",
            "            Conv2d-4          [8, 16, 2500, 68]           1,296\n",
            "               ELU-5          [8, 16, 2500, 68]               0\n",
            "         MaxPool2d-6          [8, 16, 1250, 34]               0\n",
            "       BatchNorm2d-7          [8, 16, 1250, 34]              32\n",
            "            Conv2d-8            [8, 8, 5000, 6]              88\n",
            "               ELU-9            [8, 8, 5000, 6]               0\n",
            "        MaxPool2d-10            [8, 8, 2500, 3]               0\n",
            "           Conv2d-11           [8, 16, 2500, 3]           1,296\n",
            "              ELU-12           [8, 16, 2500, 3]               0\n",
            "        MaxPool2d-13           [8, 16, 1250, 1]               0\n",
            "      BatchNorm2d-14           [8, 16, 1250, 1]              32\n",
            "          Flatten-15                [8, 700000]               0\n",
            "           Linear-16                  [8, 1024]     716,801,024\n",
            "        LeakyReLU-17                  [8, 1024]               0\n",
            "           Linear-18                    [8, 64]          65,600\n",
            "        LeakyReLU-19                    [8, 64]               0\n",
            "          Dropout-20                    [8, 64]               0\n",
            "           Linear-21                     [8, 2]             130\n",
            "          Softmax-22                     [8, 2]               0\n",
            "================================================================\n",
            "Total params: 716,869,586\n",
            "Trainable params: 716,869,586\n",
            "Non-trainable params: 0\n",
            "----------------------------------------------------------------\n",
            "Input size (MB): 622558.59\n",
            "Forward/backward pass size (MB): 1255.02\n",
            "Params size (MB): 2734.64\n",
            "Estimated Total Size (MB): 626548.25\n",
            "----------------------------------------------------------------\n"
          ]
        }
      ]
    },
    {
      "cell_type": "markdown",
      "source": [
        "## Train"
      ],
      "metadata": {
        "id": "p3XVnERqctDE"
      }
    },
    {
      "cell_type": "code",
      "source": [
        "def train(train_loader, test_loader, model, loss_fn, optimizer):\n",
        "    model.to(DEVICE) \n",
        "    loss_fn.to(DEVICE)\n",
        "    optimizer.zero_grad()\n",
        "    num_batches = len(train_loader)\n",
        "\n",
        "    epoch_progress = trange(1, EPOCHS + 1)\n",
        "    tqdm.write(\"\\nEpoch | Train Loss | Test Loss\")\n",
        "    tqdm.write(\"-\" * 30)\n",
        "    \n",
        "    for epoch in epoch_progress:\n",
        "        model.train()\n",
        "        train_loss = 0\n",
        "        for (x1, x2), label in train_loader:\n",
        "            x1 = x1.unsqueeze(1).to(DEVICE) \n",
        "            x2 = x2.unsqueeze(1).to(DEVICE) \n",
        "            label = label.squeeze(-1).to(DEVICE)\n",
        "            # x1: [8, 1, 5000, 136] > [Batch, Channel, Height, Width]\n",
        "            # x2: [8, 1, 5000, 6] > [Batch, Channel, Height, Width]\n",
        "            # label: [8] > [Height]\n",
        "            \n",
        "            pred = model(x1, x2)  \n",
        "            # pred: [8, 2]\n",
        "            loss = loss_fn(pred, label.long())\n",
        "            train_loss += loss.item()\n",
        "            \n",
        "            loss.backward()\n",
        "            optimizer.step()\n",
        "            optimizer.zero_grad()\n",
        "\n",
        "        train_loss /= num_batches\n",
        "    \n",
        "        test_loss = evaluate(test_loader, model, loss_fn)\n",
        "        tqdm.write(f\"{epoch:5} | {train_loss:10.5f} | {test_loss:9.5f}\")\n",
        "    return model\n",
        "\n",
        "\n",
        "def evaluate(loader, model, loss_fn, return_metrics=False):\n",
        "    model.eval()\n",
        "    num_batches = len(loader)\n",
        "    test_loss = 0\n",
        "    true_labels = list()\n",
        "    pred_values = list()\n",
        "\n",
        "    with torch.no_grad():\n",
        "        for (x1, x2), label in loader:\n",
        "            x1 = x1.unsqueeze(1).to(DEVICE) \n",
        "            x2 = x2.unsqueeze(1).to(DEVICE) \n",
        "            label = label.squeeze(-1).to(DEVICE)\n",
        "\n",
        "            pred = model(x1, x2)  \n",
        "            loss = loss_fn(pred, label.long())\n",
        "            test_loss += loss.item()\n",
        "\n",
        "            if return_metrics:\n",
        "                true_labels += label.detach().cpu().numpy().tolist()\n",
        "                pred_values += pred.argmax(-1).detach().cpu().numpy().tolist()\n",
        "\n",
        "    if not return_metrics:\n",
        "        # 학습 과정에서는 Loss 값만 확인합니다.\n",
        "        test_loss /= num_batches\n",
        "        return test_loss\n",
        "\n",
        "    else:\n",
        "        # 학습이 종료되고 성능 평가 지표를 확인합니다.\n",
        "        accuracy = accuracy_score(true_labels, pred_values)\n",
        "        f1 = f1_score(true_labels, pred_values)\n",
        "        f1_macro = f1_score(true_labels, pred_values, average=\"macro\")\n",
        "        recall = recall_score(true_labels, pred_values)\n",
        "        precision = precision_score(true_labels, pred_values)\n",
        "        matrix = confusion_matrix(true_labels, pred_values).ravel()\n",
        "\n",
        "        return {\n",
        "            \"accuracy\": accuracy,\n",
        "            \"f1\": f1,\n",
        "            \"f1-macro\": f1_macro,\n",
        "            \"recall\": recall,\n",
        "            \"precision\": precision,\n",
        "            \"loss\": test_loss,\n",
        "            \"matrix\": matrix,\n",
        "        }"
      ],
      "metadata": {
        "id": "kmlLlfOVd5GR"
      },
      "execution_count": 9,
      "outputs": []
    },
    {
      "cell_type": "code",
      "source": [
        "# 모델 학습\n",
        "model = train(train_dataloader, dev_dataloader, model, loss_fn, optimizer)"
      ],
      "metadata": {
        "id": "A3HcuulgZQHf",
        "colab": {
          "base_uri": "https://localhost:8080/",
          "height": 118,
          "referenced_widgets": [
            "3c6f77d03a8c44be8457da16a2667428",
            "c62e599c5ef54a4390a84a1acc3a3f67",
            "35784d8b5de64acc8e57d4c54ba43d7b",
            "b932f958dc304e04a4348aded7c7ea56",
            "fe112aa4fb964603aa63b0a7b0fff8c3",
            "2b9ae11538974a0e96608dd5fb747e6b",
            "03df6a915ef7411982ab7431d528a5cb",
            "aba67883a8714e4398eeb2db66f08d0b",
            "4e2e63140530492fb56cf01e67a51f0e",
            "33dfa16e900f458b9ca64a4f86d5cf04",
            "d2dc8d75c03b49f9944f340a93687ac2"
          ]
        },
        "outputId": "f4c5d8e6-1e15-40cc-c65b-95267b0b153b"
      },
      "execution_count": 10,
      "outputs": [
        {
          "output_type": "display_data",
          "data": {
            "text/plain": [
              "  0%|          | 0/1 [00:00<?, ?it/s]"
            ],
            "application/vnd.jupyter.widget-view+json": {
              "version_major": 2,
              "version_minor": 0,
              "model_id": "3c6f77d03a8c44be8457da16a2667428"
            }
          },
          "metadata": {}
        },
        {
          "output_type": "stream",
          "name": "stdout",
          "text": [
            "\n",
            "Epoch | Train Loss | Test Loss\n",
            "------------------------------\n",
            "    1 |    0.58919 |   0.71675\n"
          ]
        }
      ]
    },
    {
      "cell_type": "markdown",
      "source": [
        "## Test"
      ],
      "metadata": {
        "id": "j3ksFZAtcvS8"
      }
    },
    {
      "cell_type": "code",
      "source": [
        "clear()\n",
        "metrics = evaluate(test_dataloader, model, loss_fn, return_metrics=True)\n",
        "\n",
        "print(f\"Accuracy:  {metrics['accuracy']:.3f}\")\n",
        "print(f\"F1-score:  {metrics['f1']:.3f}\")\n",
        "print(f\"F1-macro:  {metrics['f1-macro']:.3f}\")\n",
        "print(f\"Recall:    {metrics['recall']:.3f}\")\n",
        "print(f\"Precision: {metrics['precision']:.3f}\")\n",
        "\n",
        "print(\"-\" * 30)\n",
        "tn, fp, fn, tp = metrics[\"matrix\"]\n",
        "print(f\"TN: {tn}\")\n",
        "print(f\"FP: {fp}\")\n",
        "print(f\"FN: {fn}\")\n",
        "print(f\"TP: {tp}\")"
      ],
      "metadata": {
        "id": "vBY1dUR9ZSNe",
        "colab": {
          "base_uri": "https://localhost:8080/"
        },
        "outputId": "03a0d592-5c20-4f0d-bd1e-c7ce63ed29b9"
      },
      "execution_count": 11,
      "outputs": [
        {
          "output_type": "stream",
          "name": "stdout",
          "text": [
            "Accuracy:  0.500\n",
            "F1-score:  0.000\n",
            "F1-macro:  0.333\n",
            "Recall:    0.000\n",
            "Precision: 0.000\n",
            "------------------------------\n",
            "TN: 235\n",
            "FP: 0\n",
            "FN: 235\n",
            "TP: 0\n"
          ]
        },
        {
          "output_type": "stream",
          "name": "stderr",
          "text": [
            "/usr/local/lib/python3.8/dist-packages/sklearn/metrics/_classification.py:1318: UndefinedMetricWarning: Precision is ill-defined and being set to 0.0 due to no predicted samples. Use `zero_division` parameter to control this behavior.\n",
            "  _warn_prf(average, modifier, msg_start, len(result))\n"
          ]
        }
      ]
    },
    {
      "cell_type": "code",
      "source": [
        "def show_probs(test_data, model, max=6):\n",
        "    dataloader = DataLoader(training_dataset, batch_size=1, shuffle=True)\n",
        "\n",
        "    model.eval()\n",
        "    neg_max = max // 2\n",
        "    pos_max = max - neg_max\n",
        "    pos_count = 0\n",
        "    neg_count = 0\n",
        "    with torch.no_grad():\n",
        "        for (x1, x2), label in dataloader:\n",
        "            x1 = x1.unsqueeze(1).to(DEVICE) \n",
        "            x2 = x2.unsqueeze(1).to(DEVICE) \n",
        "            # label = label.to(DEVICE)\n",
        "\n",
        "            if label.item() == 0 and pos_count < pos_max:\n",
        "                pos_count += 1\n",
        "                label = label.item()\n",
        "            elif label.item() == 1 and neg_count < neg_max:\n",
        "                neg_count += 1\n",
        "                label = label.item()\n",
        "            elif pos_count + neg_count == max:\n",
        "                break\n",
        "            else:\n",
        "                continue\n",
        "\n",
        "            pred = model(x1, x2)\n",
        "            normal, abnormal = pred.squeeze(0)\n",
        "            print(f\"{label}: [{normal:.3f}  {abnormal:.3f}]\")\n",
        "\n",
        "show_probs(test_data, model, 10)"
      ],
      "metadata": {
        "id": "qBAtRInId630",
        "colab": {
          "base_uri": "https://localhost:8080/"
        },
        "outputId": "75954326-6fac-4de0-ec20-898dc1f4fa1e"
      },
      "execution_count": 14,
      "outputs": [
        {
          "output_type": "stream",
          "name": "stdout",
          "text": [
            "0: [0.986  0.014]\n",
            "1: [0.778  0.222]\n",
            "0: [0.958  0.042]\n",
            "0: [0.964  0.036]\n",
            "0: [0.978  0.022]\n",
            "1: [0.963  0.037]\n",
            "0: [0.964  0.036]\n",
            "1: [0.850  0.150]\n",
            "1: [0.966  0.034]\n",
            "1: [0.974  0.026]\n"
          ]
        }
      ]
    }
  ]
}