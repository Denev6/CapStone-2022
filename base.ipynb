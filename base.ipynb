{
  "nbformat": 4,
  "nbformat_minor": 0,
  "metadata": {
    "colab": {
      "provenance": [],
      "machine_shape": "hm",
      "include_colab_link": true
    },
    "kernelspec": {
      "name": "python3",
      "display_name": "Python 3"
    },
    "language_info": {
      "name": "python"
    },
    "accelerator": "GPU",
    "gpuClass": "premium",
    "widgets": {
      "application/vnd.jupyter.widget-state+json": {
        "b99d9f2ca535488ab65b002641d64150": {
          "model_module": "@jupyter-widgets/controls",
          "model_name": "HBoxModel",
          "model_module_version": "1.5.0",
          "state": {
            "_dom_classes": [],
            "_model_module": "@jupyter-widgets/controls",
            "_model_module_version": "1.5.0",
            "_model_name": "HBoxModel",
            "_view_count": null,
            "_view_module": "@jupyter-widgets/controls",
            "_view_module_version": "1.5.0",
            "_view_name": "HBoxView",
            "box_style": "",
            "children": [
              "IPY_MODEL_c27793a396d4445eb4d30377b58c94f1",
              "IPY_MODEL_a5af12b6839d4bff82e074f2643c2c27",
              "IPY_MODEL_beaea3a8326b4807a36704bc648ae3ec"
            ],
            "layout": "IPY_MODEL_0b26c2c3c6bb4968a41bf686c159413f"
          }
        },
        "c27793a396d4445eb4d30377b58c94f1": {
          "model_module": "@jupyter-widgets/controls",
          "model_name": "HTMLModel",
          "model_module_version": "1.5.0",
          "state": {
            "_dom_classes": [],
            "_model_module": "@jupyter-widgets/controls",
            "_model_module_version": "1.5.0",
            "_model_name": "HTMLModel",
            "_view_count": null,
            "_view_module": "@jupyter-widgets/controls",
            "_view_module_version": "1.5.0",
            "_view_name": "HTMLView",
            "description": "",
            "description_tooltip": null,
            "layout": "IPY_MODEL_f839eb9065614d749a2da6636aa8c77d",
            "placeholder": "​",
            "style": "IPY_MODEL_b76809bd1eee43a7b47ca6c8265ccdb8",
            "value": "100%"
          }
        },
        "a5af12b6839d4bff82e074f2643c2c27": {
          "model_module": "@jupyter-widgets/controls",
          "model_name": "FloatProgressModel",
          "model_module_version": "1.5.0",
          "state": {
            "_dom_classes": [],
            "_model_module": "@jupyter-widgets/controls",
            "_model_module_version": "1.5.0",
            "_model_name": "FloatProgressModel",
            "_view_count": null,
            "_view_module": "@jupyter-widgets/controls",
            "_view_module_version": "1.5.0",
            "_view_name": "ProgressView",
            "bar_style": "success",
            "description": "",
            "description_tooltip": null,
            "layout": "IPY_MODEL_346c07fcd1c24d0da13c66c477f209e1",
            "max": 5,
            "min": 0,
            "orientation": "horizontal",
            "style": "IPY_MODEL_d110f311c57245a8b52a98b1dcc0373a",
            "value": 5
          }
        },
        "beaea3a8326b4807a36704bc648ae3ec": {
          "model_module": "@jupyter-widgets/controls",
          "model_name": "HTMLModel",
          "model_module_version": "1.5.0",
          "state": {
            "_dom_classes": [],
            "_model_module": "@jupyter-widgets/controls",
            "_model_module_version": "1.5.0",
            "_model_name": "HTMLModel",
            "_view_count": null,
            "_view_module": "@jupyter-widgets/controls",
            "_view_module_version": "1.5.0",
            "_view_name": "HTMLView",
            "description": "",
            "description_tooltip": null,
            "layout": "IPY_MODEL_d1944f3bba8a4e26b09025d8643af273",
            "placeholder": "​",
            "style": "IPY_MODEL_eeaab859493e45d2a4286955d42fd4d5",
            "value": " 5/5 [00:39&lt;00:00,  7.88s/it]"
          }
        },
        "0b26c2c3c6bb4968a41bf686c159413f": {
          "model_module": "@jupyter-widgets/base",
          "model_name": "LayoutModel",
          "model_module_version": "1.2.0",
          "state": {
            "_model_module": "@jupyter-widgets/base",
            "_model_module_version": "1.2.0",
            "_model_name": "LayoutModel",
            "_view_count": null,
            "_view_module": "@jupyter-widgets/base",
            "_view_module_version": "1.2.0",
            "_view_name": "LayoutView",
            "align_content": null,
            "align_items": null,
            "align_self": null,
            "border": null,
            "bottom": null,
            "display": null,
            "flex": null,
            "flex_flow": null,
            "grid_area": null,
            "grid_auto_columns": null,
            "grid_auto_flow": null,
            "grid_auto_rows": null,
            "grid_column": null,
            "grid_gap": null,
            "grid_row": null,
            "grid_template_areas": null,
            "grid_template_columns": null,
            "grid_template_rows": null,
            "height": null,
            "justify_content": null,
            "justify_items": null,
            "left": null,
            "margin": null,
            "max_height": null,
            "max_width": null,
            "min_height": null,
            "min_width": null,
            "object_fit": null,
            "object_position": null,
            "order": null,
            "overflow": null,
            "overflow_x": null,
            "overflow_y": null,
            "padding": null,
            "right": null,
            "top": null,
            "visibility": null,
            "width": null
          }
        },
        "f839eb9065614d749a2da6636aa8c77d": {
          "model_module": "@jupyter-widgets/base",
          "model_name": "LayoutModel",
          "model_module_version": "1.2.0",
          "state": {
            "_model_module": "@jupyter-widgets/base",
            "_model_module_version": "1.2.0",
            "_model_name": "LayoutModel",
            "_view_count": null,
            "_view_module": "@jupyter-widgets/base",
            "_view_module_version": "1.2.0",
            "_view_name": "LayoutView",
            "align_content": null,
            "align_items": null,
            "align_self": null,
            "border": null,
            "bottom": null,
            "display": null,
            "flex": null,
            "flex_flow": null,
            "grid_area": null,
            "grid_auto_columns": null,
            "grid_auto_flow": null,
            "grid_auto_rows": null,
            "grid_column": null,
            "grid_gap": null,
            "grid_row": null,
            "grid_template_areas": null,
            "grid_template_columns": null,
            "grid_template_rows": null,
            "height": null,
            "justify_content": null,
            "justify_items": null,
            "left": null,
            "margin": null,
            "max_height": null,
            "max_width": null,
            "min_height": null,
            "min_width": null,
            "object_fit": null,
            "object_position": null,
            "order": null,
            "overflow": null,
            "overflow_x": null,
            "overflow_y": null,
            "padding": null,
            "right": null,
            "top": null,
            "visibility": null,
            "width": null
          }
        },
        "b76809bd1eee43a7b47ca6c8265ccdb8": {
          "model_module": "@jupyter-widgets/controls",
          "model_name": "DescriptionStyleModel",
          "model_module_version": "1.5.0",
          "state": {
            "_model_module": "@jupyter-widgets/controls",
            "_model_module_version": "1.5.0",
            "_model_name": "DescriptionStyleModel",
            "_view_count": null,
            "_view_module": "@jupyter-widgets/base",
            "_view_module_version": "1.2.0",
            "_view_name": "StyleView",
            "description_width": ""
          }
        },
        "346c07fcd1c24d0da13c66c477f209e1": {
          "model_module": "@jupyter-widgets/base",
          "model_name": "LayoutModel",
          "model_module_version": "1.2.0",
          "state": {
            "_model_module": "@jupyter-widgets/base",
            "_model_module_version": "1.2.0",
            "_model_name": "LayoutModel",
            "_view_count": null,
            "_view_module": "@jupyter-widgets/base",
            "_view_module_version": "1.2.0",
            "_view_name": "LayoutView",
            "align_content": null,
            "align_items": null,
            "align_self": null,
            "border": null,
            "bottom": null,
            "display": null,
            "flex": null,
            "flex_flow": null,
            "grid_area": null,
            "grid_auto_columns": null,
            "grid_auto_flow": null,
            "grid_auto_rows": null,
            "grid_column": null,
            "grid_gap": null,
            "grid_row": null,
            "grid_template_areas": null,
            "grid_template_columns": null,
            "grid_template_rows": null,
            "height": null,
            "justify_content": null,
            "justify_items": null,
            "left": null,
            "margin": null,
            "max_height": null,
            "max_width": null,
            "min_height": null,
            "min_width": null,
            "object_fit": null,
            "object_position": null,
            "order": null,
            "overflow": null,
            "overflow_x": null,
            "overflow_y": null,
            "padding": null,
            "right": null,
            "top": null,
            "visibility": null,
            "width": null
          }
        },
        "d110f311c57245a8b52a98b1dcc0373a": {
          "model_module": "@jupyter-widgets/controls",
          "model_name": "ProgressStyleModel",
          "model_module_version": "1.5.0",
          "state": {
            "_model_module": "@jupyter-widgets/controls",
            "_model_module_version": "1.5.0",
            "_model_name": "ProgressStyleModel",
            "_view_count": null,
            "_view_module": "@jupyter-widgets/base",
            "_view_module_version": "1.2.0",
            "_view_name": "StyleView",
            "bar_color": null,
            "description_width": ""
          }
        },
        "d1944f3bba8a4e26b09025d8643af273": {
          "model_module": "@jupyter-widgets/base",
          "model_name": "LayoutModel",
          "model_module_version": "1.2.0",
          "state": {
            "_model_module": "@jupyter-widgets/base",
            "_model_module_version": "1.2.0",
            "_model_name": "LayoutModel",
            "_view_count": null,
            "_view_module": "@jupyter-widgets/base",
            "_view_module_version": "1.2.0",
            "_view_name": "LayoutView",
            "align_content": null,
            "align_items": null,
            "align_self": null,
            "border": null,
            "bottom": null,
            "display": null,
            "flex": null,
            "flex_flow": null,
            "grid_area": null,
            "grid_auto_columns": null,
            "grid_auto_flow": null,
            "grid_auto_rows": null,
            "grid_column": null,
            "grid_gap": null,
            "grid_row": null,
            "grid_template_areas": null,
            "grid_template_columns": null,
            "grid_template_rows": null,
            "height": null,
            "justify_content": null,
            "justify_items": null,
            "left": null,
            "margin": null,
            "max_height": null,
            "max_width": null,
            "min_height": null,
            "min_width": null,
            "object_fit": null,
            "object_position": null,
            "order": null,
            "overflow": null,
            "overflow_x": null,
            "overflow_y": null,
            "padding": null,
            "right": null,
            "top": null,
            "visibility": null,
            "width": null
          }
        },
        "eeaab859493e45d2a4286955d42fd4d5": {
          "model_module": "@jupyter-widgets/controls",
          "model_name": "DescriptionStyleModel",
          "model_module_version": "1.5.0",
          "state": {
            "_model_module": "@jupyter-widgets/controls",
            "_model_module_version": "1.5.0",
            "_model_name": "DescriptionStyleModel",
            "_view_count": null,
            "_view_module": "@jupyter-widgets/base",
            "_view_module_version": "1.2.0",
            "_view_name": "StyleView",
            "description_width": ""
          }
        }
      }
    }
  },
  "cells": [
    {
      "cell_type": "markdown",
      "metadata": {
        "id": "view-in-github",
        "colab_type": "text"
      },
      "source": [
        "<a href=\"https://colab.research.google.com/github/Denev6/CapStone/blob/main/base.ipynb\" target=\"_parent\"><img src=\"https://colab.research.google.com/assets/colab-badge.svg\" alt=\"Open In Colab\"/></a>"
      ]
    },
    {
      "cell_type": "code",
      "source": [
        "!pip install torchsummary"
      ],
      "metadata": {
        "id": "jdI4496Oi5le"
      },
      "execution_count": null,
      "outputs": []
    },
    {
      "cell_type": "markdown",
      "source": [
        "# CNN 살펴보기"
      ],
      "metadata": {
        "id": "1pzHbJmEgB0T"
      }
    },
    {
      "cell_type": "code",
      "execution_count": null,
      "metadata": {
        "id": "Cz95IbIgaQyI"
      },
      "outputs": [],
      "source": [
        "import os\n",
        "import gc\n",
        "import warnings\n",
        "from google.colab import drive\n",
        "\n",
        "import numpy as np \n",
        "import pandas as pd\n",
        "from tqdm.auto import tqdm, trange\n",
        "import torch\n",
        "import torch.nn as nn\n",
        "import torch.optim as optim\n",
        "import torch.nn.functional as F\n",
        "from torch.utils.data import Dataset, DataLoader\n",
        "from torchsummary import summary\n",
        "from sklearn.metrics import (\n",
        "    f1_score,\n",
        "    accuracy_score,\n",
        "    recall_score,\n",
        "    precision_score,\n",
        "    confusion_matrix,\n",
        ")"
      ]
    },
    {
      "cell_type": "code",
      "source": [
        "drive.mount(\"/content/drive\")\n",
        "warnings.simplefilter(\"ignore\")\n",
        "\n",
        "def clear():\n",
        "    gc.collect()\n",
        "    torch.cuda.empty_cache()\n",
        "\n",
        "def join_path(*args):\n",
        "    return os.path.join(\"/content/drive/MyDrive\", *args)\n",
        "\n",
        "# 사용한 데이터 파일\n",
        "TRAIN_CSV = [\n",
        "    join_path(\"tempData\", csv)\n",
        "    for csv in [\"feat_xtrain.csv\", \"pose_xtrain.csv\", \"ytrain.csv\"]\n",
        "]\n",
        "TEST_CSV = [\n",
        "    join_path(\"tempData\", csv) for csv in [\"feat_xtest.csv\", \"pose_xtest.csv\", \"ytest.csv\"]\n",
        "]\n",
        "\n",
        "DEVICE = \"cuda\" if torch.cuda.is_available() else \"cpu\"\n",
        "BATCH_SIZE = 8\n",
        "EPOCHS = 5\n",
        "LEARNING_RATE = 1e-6\n",
        "MODEL_PATH = join_path(\"tdcn.pth\")"
      ],
      "metadata": {
        "id": "0DFNEI_IdzGt"
      },
      "execution_count": null,
      "outputs": []
    },
    {
      "cell_type": "markdown",
      "source": [
        "## Dataset"
      ],
      "metadata": {
        "id": "vvrSe1oGcoe2"
      }
    },
    {
      "cell_type": "markdown",
      "source": [
        "Train Data\n",
        "```python\n",
        "clear()\n",
        "data_len = 500\n",
        "for csv in [\"feat_xtrain.csv\", \"pose_xtrain.csv\"]:\n",
        "    data = join_path(\"Capstone\", \"data\", csv)\n",
        "    df = pd.read_csv(data)\n",
        "    df = df.iloc[:data_len * 5000, :]\n",
        "    df.to_csv(f\"/content/drive/MyDrive/tempData/{csv}\", index=False)\n",
        "\n",
        "data = join_path(\"Capstone\", \"data\", \"ytrain.csv\")\n",
        "df = pd.read_csv(data)\n",
        "df = df.iloc[:data_len, 1]\n",
        "df.to_csv(f\"/content/drive/MyDrive/tempData/{csv}\", index=False)\n",
        "```"
      ],
      "metadata": {
        "id": "JQXM1H3WqQ4n"
      }
    },
    {
      "cell_type": "code",
      "source": [
        "class CustomDataset(Dataset):\n",
        "    \"\"\"데이터 처리\"\"\"\n",
        "    def __init__(self, x1_file, x2_file, y_file, mode=None):\n",
        "        x1_df = pd.read_csv(x1_file)  # landmark data\n",
        "        x2_df = pd.read_csv(x2_file)  # pose data\n",
        "        y_df = pd.read_csv(y_file)\n",
        "\n",
        "        x1 = x1_df.values\n",
        "        x2 = x2_df.values\n",
        "        y = y_df.iloc[:, 0].values\n",
        "\n",
        "        self.x1_data = torch.FloatTensor(x1)\n",
        "        self.x2_data = torch.FloatTensor(x2)\n",
        "        self.y_data = torch.IntTensor(y)\n",
        "\n",
        "    def __len__(self):\n",
        "        return len(self.y_data)\n",
        "\n",
        "    def __getitem__(self, index):\n",
        "        return (\n",
        "            self.x1_data[index * 5000 : (index + 1) * 5000],\n",
        "            self.x2_data[index * 5000 : (index + 1) * 5000],\n",
        "        ), self.y_data[index]"
      ],
      "metadata": {
        "id": "Jd668LWGd01N"
      },
      "execution_count": null,
      "outputs": []
    },
    {
      "cell_type": "code",
      "source": [
        "# 데이터셋\n",
        "training_data = CustomDataset(*TRAIN_CSV, mode=\"train\")\n",
        "test_data = CustomDataset(*TEST_CSV)\n",
        "\n",
        "train_dataloader = DataLoader(training_data, batch_size=BATCH_SIZE, shuffle=True)\n",
        "test_dataloader = DataLoader(test_data, batch_size=BATCH_SIZE)"
      ],
      "metadata": {
        "id": "FO_wO7yLnvzi"
      },
      "execution_count": null,
      "outputs": []
    },
    {
      "cell_type": "markdown",
      "source": [
        "## CNN"
      ],
      "metadata": {
        "id": "zXM3rNbgcqaK"
      }
    },
    {
      "cell_type": "code",
      "source": [
        "class CNN(nn.Module):\n",
        "    def __init__(self, num_label=2):\n",
        "        super(CNN, self).__init__()\n",
        "        self.conv = nn.Sequential(\n",
        "            nn.Conv2d(1, 4, kernel_size=(5, 2), dilation=2, padding=\"same\"),\n",
        "            nn.ELU(inplace=True),\n",
        "            nn.MaxPool2d(kernel_size=2, stride=2),\n",
        "            nn.Conv2d(4, 8, kernel_size=(5, 2), dilation=2, padding=\"same\"),\n",
        "            nn.ELU(inplace=True),\n",
        "            nn.MaxPool2d(kernel_size=2, stride=2),\n",
        "            nn.BatchNorm2d(8, affine=True)\n",
        "        )\n",
        "\n",
        "        self.classifier = nn.Sequential(\n",
        "            nn.Flatten(1, -1),\n",
        "            nn.Linear(350000, 1024),\n",
        "            nn.ELU(inplace=True),\n",
        "            nn.Linear(1024, 64),\n",
        "            nn.LeakyReLU(inplace=True),\n",
        "            nn.Dropout(p=0.3),\n",
        "            nn.Linear(64, num_label),\n",
        "        )\n",
        "\n",
        "    def forward(self, feat_x, pose_x):\n",
        "        feat_y = self.conv(feat_x)\n",
        "        pose_y = self.conv(pose_x)\n",
        "        out = torch.cat((feat_y, pose_y), dim=-1)\n",
        "        out = self.classifier(out)\n",
        "        return out"
      ],
      "metadata": {
        "id": "5XYPmif7d22I"
      },
      "execution_count": null,
      "outputs": []
    },
    {
      "cell_type": "code",
      "source": [
        "model = CNN(num_label=2)\n",
        "loss_fn = nn.CrossEntropyLoss()\n",
        "optimizer = optim.SGD(model.parameters(), lr=LEARNING_RATE, momentum=0.9)"
      ],
      "metadata": {
        "id": "1w2Z9EPEdKgX"
      },
      "execution_count": null,
      "outputs": []
    },
    {
      "cell_type": "code",
      "source": [
        "model.to(DEVICE)\n",
        "summary(model, [(1, 5000, 136), (1, 5000, 6)], batch_size=BATCH_SIZE)"
      ],
      "metadata": {
        "colab": {
          "base_uri": "https://localhost:8080/"
        },
        "id": "QYajyWP5dMU0",
        "outputId": "86ca4d39-1542-4afd-9050-82d7255ec8c4"
      },
      "execution_count": null,
      "outputs": [
        {
          "output_type": "stream",
          "name": "stdout",
          "text": [
            "----------------------------------------------------------------\n",
            "        Layer (type)               Output Shape         Param #\n",
            "================================================================\n",
            "            Conv2d-1          [8, 4, 5000, 136]              44\n",
            "               ELU-2          [8, 4, 5000, 136]               0\n",
            "         MaxPool2d-3           [8, 4, 2500, 68]               0\n",
            "            Conv2d-4           [8, 8, 2500, 68]             328\n",
            "               ELU-5           [8, 8, 2500, 68]               0\n",
            "         MaxPool2d-6           [8, 8, 1250, 34]               0\n",
            "       BatchNorm2d-7           [8, 8, 1250, 34]              16\n",
            "            Conv2d-8            [8, 4, 5000, 6]              44\n",
            "               ELU-9            [8, 4, 5000, 6]               0\n",
            "        MaxPool2d-10            [8, 4, 2500, 3]               0\n",
            "           Conv2d-11            [8, 8, 2500, 3]             328\n",
            "              ELU-12            [8, 8, 2500, 3]               0\n",
            "        MaxPool2d-13            [8, 8, 1250, 1]               0\n",
            "      BatchNorm2d-14            [8, 8, 1250, 1]              16\n",
            "          Flatten-15                [8, 350000]               0\n",
            "           Linear-16                  [8, 1024]     358,401,024\n",
            "              ELU-17                  [8, 1024]               0\n",
            "           Linear-18                    [8, 64]          65,600\n",
            "        LeakyReLU-19                    [8, 64]               0\n",
            "          Dropout-20                    [8, 64]               0\n",
            "           Linear-21                     [8, 2]             130\n",
            "================================================================\n",
            "Total params: 358,467,530\n",
            "Trainable params: 358,467,530\n",
            "Non-trainable params: 0\n",
            "----------------------------------------------------------------\n",
            "Input size (MB): 622558.59\n",
            "Forward/backward pass size (MB): 627.58\n",
            "Params size (MB): 1367.45\n",
            "Estimated Total Size (MB): 624553.62\n",
            "----------------------------------------------------------------\n"
          ]
        }
      ]
    },
    {
      "cell_type": "markdown",
      "source": [
        "## Train"
      ],
      "metadata": {
        "id": "p3XVnERqctDE"
      }
    },
    {
      "cell_type": "code",
      "source": [
        "def train(train_loader, test_loader, model, loss_fn, optimizer):\n",
        "    model.to(DEVICE) \n",
        "    loss_fn.to(DEVICE)\n",
        "    optimizer.zero_grad()\n",
        "    num_batches = len(train_loader)\n",
        "\n",
        "    epoch_progress = trange(1, EPOCHS + 1)\n",
        "    tqdm.write(\"\\nEpoch | Train Loss | Test Loss\")\n",
        "    tqdm.write(\"-\" * 30)\n",
        "    \n",
        "    for epoch in epoch_progress:\n",
        "        model.train()\n",
        "        train_loss = 0\n",
        "        for (x1, x2), label in train_loader:\n",
        "            x1 = x1.unsqueeze(1).to(DEVICE) \n",
        "            x2 = x2.unsqueeze(1).to(DEVICE) \n",
        "            label = label.to(DEVICE)\n",
        "            # x1: [8, 1, 5000, 136] > [Batch, Channel, Height, Width]\n",
        "            # x2: [8, 1, 5000, 6] > [Batch, Channel, Height, Width]\n",
        "            # label: [8] > [Height]\n",
        "            \n",
        "            pred = model(x1, x2)  \n",
        "            # pred: [8, 1] > [Batch, Height, Width]\n",
        "            loss = loss_fn(pred, label.long())\n",
        "            train_loss += loss.item()\n",
        "            \n",
        "            loss.backward()\n",
        "            optimizer.step()\n",
        "            optimizer.zero_grad()\n",
        "\n",
        "        train_loss /= num_batches\n",
        "    \n",
        "        test_loss = test(test_loader, model, loss_fn)\n",
        "        tqdm.write(f\"{epoch:5} | {train_loss:10.5f} | {test_loss:9.5f}\")\n",
        "    return model\n",
        "\n",
        "\n",
        "def test(test_loader, model, loss_fn, return_metrics=False):\n",
        "    model.eval()\n",
        "    num_batches = len(test_loader)\n",
        "    test_loss = 0\n",
        "    true_labels = list()\n",
        "    pred_values = list()\n",
        "\n",
        "    with torch.no_grad():\n",
        "        for (x1, x2), label in test_loader:\n",
        "            x1 = x1.unsqueeze(1).to(DEVICE) \n",
        "            x2 = x2.unsqueeze(1).to(DEVICE) \n",
        "            label = label.to(DEVICE)\n",
        "\n",
        "            pred = model(x1, x2)  \n",
        "            loss = loss_fn(pred, label.long())\n",
        "            test_loss += loss.item()\n",
        "\n",
        "            if return_metrics:\n",
        "                true_labels += label.detach().cpu().numpy().tolist()\n",
        "                pred_values += pred.argmax(-1).detach().cpu().numpy().tolist()\n",
        "\n",
        "    if not return_metrics:\n",
        "        # 학습 과정에서는 Loss 값만 확인합니다.\n",
        "        test_loss /= num_batches\n",
        "        return test_loss\n",
        "\n",
        "    else:\n",
        "        # 학습이 종료되고 성능 평가 지표를 확인합니다.\n",
        "        accuracy = accuracy_score(true_labels, pred_values)\n",
        "        f1 = f1_score(true_labels, pred_values)\n",
        "        f1_macro = f1_score(true_labels, pred_values, average=\"macro\")\n",
        "        recall = recall_score(true_labels, pred_values)\n",
        "        precision = precision_score(true_labels, pred_values)\n",
        "        matrix = confusion_matrix(true_labels, pred_values).ravel()\n",
        "\n",
        "        return {\n",
        "            \"accuracy\": accuracy,\n",
        "            \"f1\": f1,\n",
        "            \"f1-macro\": f1_macro,\n",
        "            \"recall\": recall,\n",
        "            \"precision\": precision,\n",
        "            \"loss\": test_loss,\n",
        "            \"matrix\": matrix,\n",
        "        }"
      ],
      "metadata": {
        "id": "kmlLlfOVd5GR"
      },
      "execution_count": null,
      "outputs": []
    },
    {
      "cell_type": "code",
      "source": [
        "# 모델 학습\n",
        "model = train(train_dataloader, test_dataloader, model, loss_fn, optimizer)"
      ],
      "metadata": {
        "colab": {
          "base_uri": "https://localhost:8080/",
          "height": 188,
          "referenced_widgets": [
            "b99d9f2ca535488ab65b002641d64150",
            "c27793a396d4445eb4d30377b58c94f1",
            "a5af12b6839d4bff82e074f2643c2c27",
            "beaea3a8326b4807a36704bc648ae3ec",
            "0b26c2c3c6bb4968a41bf686c159413f",
            "f839eb9065614d749a2da6636aa8c77d",
            "b76809bd1eee43a7b47ca6c8265ccdb8",
            "346c07fcd1c24d0da13c66c477f209e1",
            "d110f311c57245a8b52a98b1dcc0373a",
            "d1944f3bba8a4e26b09025d8643af273",
            "eeaab859493e45d2a4286955d42fd4d5"
          ]
        },
        "id": "A3HcuulgZQHf",
        "outputId": "c26d642d-1e9f-4d89-8b91-829d7f639440"
      },
      "execution_count": null,
      "outputs": [
        {
          "output_type": "display_data",
          "data": {
            "text/plain": [
              "  0%|          | 0/5 [00:00<?, ?it/s]"
            ],
            "application/vnd.jupyter.widget-view+json": {
              "version_major": 2,
              "version_minor": 0,
              "model_id": "b99d9f2ca535488ab65b002641d64150"
            }
          },
          "metadata": {}
        },
        {
          "output_type": "stream",
          "name": "stdout",
          "text": [
            "\n",
            "Epoch | Train Loss | Test Loss\n",
            "------------------------------\n",
            "    1 |    0.67854 |   0.70533\n",
            "    2 |    0.66904 |   0.70619\n",
            "    3 |    0.66265 |   0.69999\n",
            "    4 |    0.65952 |   0.70330\n",
            "    5 |    0.65994 |   0.69991\n"
          ]
        }
      ]
    },
    {
      "cell_type": "markdown",
      "source": [
        "## Test"
      ],
      "metadata": {
        "id": "j3ksFZAtcvS8"
      }
    },
    {
      "cell_type": "code",
      "source": [
        "clear()\n",
        "metrics = test(test_dataloader, model, loss_fn, return_metrics=True)\n",
        "\n",
        "print(f\"Accuracy:  {metrics['accuracy']:.3f}\")\n",
        "print(f\"F1-score:  {metrics['f1']:.3f}\")\n",
        "print(f\"F1-macro:  {metrics['f1-macro']:.3f}\")\n",
        "print(f\"Recall:    {metrics['recall']:.3f}\")\n",
        "print(f\"Precision: {metrics['precision']:.3f}\")\n",
        "\n",
        "print(\"-\" * 30)\n",
        "tn, fp, fn, tp = metrics[\"matrix\"]\n",
        "print(f\"TN: {tn}\")\n",
        "print(f\"FP: {fp}\")\n",
        "print(f\"FN: {fn}\")\n",
        "print(f\"TP: {tp}\")"
      ],
      "metadata": {
        "id": "vBY1dUR9ZSNe",
        "colab": {
          "base_uri": "https://localhost:8080/"
        },
        "outputId": "c76de9b5-d08f-4eb9-ba9f-ed63cf33027e"
      },
      "execution_count": null,
      "outputs": [
        {
          "output_type": "stream",
          "name": "stdout",
          "text": [
            "Accuracy:  0.277\n",
            "F1-score:  0.393\n",
            "F1-macro:  0.249\n",
            "Recall:    0.786\n",
            "Precision: 0.262\n",
            "------------------------------\n",
            "TN: 2\n",
            "FP: 31\n",
            "FN: 3\n",
            "TP: 11\n"
          ]
        }
      ]
    },
    {
      "cell_type": "code",
      "source": [
        "def show_probs(test_data, model, max=6):\n",
        "    dataloader = DataLoader(test_data, batch_size=1, shuffle=True)\n",
        "\n",
        "    model.eval()\n",
        "    neg_max = max // 2\n",
        "    pos_max = max - neg_max\n",
        "    pos_count = 0\n",
        "    neg_count = 0\n",
        "    with torch.no_grad():\n",
        "        for (x1, x2), label in dataloader:\n",
        "            x1 = x1.unsqueeze(1).to(DEVICE) \n",
        "            x2 = x2.unsqueeze(1).to(DEVICE) \n",
        "            # label = label.to(DEVICE)\n",
        "\n",
        "            if label.item() == 0 and pos_count < pos_max:\n",
        "                pos_count += 1\n",
        "                label = label.item()\n",
        "            elif label.item() == 1 and neg_count < neg_max:\n",
        "                neg_count += 1\n",
        "                label = label.item()\n",
        "            elif pos_count + neg_count == max:\n",
        "                break\n",
        "            else:\n",
        "                continue\n",
        "\n",
        "            pred = model(x1, x2)\n",
        "            pred = F.softmax(pred, dim=-1)\n",
        "            normal, abnormal = pred.squeeze(0)\n",
        "            print(f\"{label}: [{normal:.3f}  {abnormal:.3f}]\")\n",
        "\n",
        "\n",
        "show_probs(test_data, model, 10)"
      ],
      "metadata": {
        "id": "qBAtRInId630",
        "colab": {
          "base_uri": "https://localhost:8080/"
        },
        "outputId": "a3fb45fe-82e1-4b2b-e1bf-16af5e9f1844"
      },
      "execution_count": null,
      "outputs": [
        {
          "output_type": "stream",
          "name": "stdout",
          "text": [
            "0: [0.493  0.507]\n",
            "0: [0.489  0.511]\n",
            "1: [0.493  0.507]\n",
            "1: [0.493  0.507]\n",
            "0: [0.493  0.507]\n",
            "0: [0.493  0.507]\n",
            "1: [0.493  0.507]\n",
            "0: [0.493  0.507]\n",
            "1: [0.511  0.489]\n",
            "1: [0.493  0.507]\n"
          ]
        }
      ]
    }
  ]
}