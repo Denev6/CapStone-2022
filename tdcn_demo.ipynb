{
  "cells": [
    {
      "cell_type": "markdown",
      "metadata": {
        "id": "view-in-github",
        "colab_type": "text"
      },
      "source": [
        "<a href=\"https://colab.research.google.com/github/Denev6/CapStone/blob/main/tdcn_demo.ipynb\" target=\"_parent\"><img src=\"https://colab.research.google.com/assets/colab-badge.svg\" alt=\"Open In Colab\"/></a>"
      ]
    },
    {
      "cell_type": "markdown",
      "source": [
        "# TDCN 이미지 예측 모델 구현"
      ],
      "metadata": {
        "collapsed": false,
        "id": "w78x_jwKe64c"
      }
    },
    {
      "cell_type": "markdown",
      "source": [
        "수정 \n",
        "- optimizer zero_grad 위치 수정\n",
        "- DilatedConvBlock의 In/Out channels 수정\n",
        "```\n",
        "The feature dimensions of Dilated Convolutional Blocks are\n",
        "256, 256, 128, 64, 64 for 2D facial landmark features, and\n",
        "128, 64, 256, 128, 64 for the head-pose features.\n",
        "```\n",
        "- Flatten layer 추가\n",
        "\n",
        "`TODO`로 검색\n",
        "- DilatedConvBlock 내부에 있는 Conv2d의 In/Out channels (현재는 임시로 설정)\n",
        "- 최종 분류층(classifier)에 있는 Linear layer (현재는 임시로 설정) "
      ],
      "metadata": {
        "id": "phcfPxaiY1lK"
      }
    },
    {
      "cell_type": "code",
      "source": [
        "!pip install torchsummary"
      ],
      "metadata": {
        "id": "kTWPs-l-B4H3"
      },
      "execution_count": null,
      "outputs": []
    },
    {
      "cell_type": "code",
      "execution_count": null,
      "outputs": [],
      "source": [
        "import os\n",
        "import gc\n",
        "import pickle\n",
        "import random\n",
        "import warnings\n",
        "from google.colab import drive\n",
        "\n",
        "import numpy as np\n",
        "import pandas as pd\n",
        "from tqdm.auto import tqdm, trange\n",
        "import torch\n",
        "from torch import nn\n",
        "import torch.optim as optim\n",
        "import torch.nn.functional as F\n",
        "from torch.utils.data import Dataset, DataLoader\n",
        "from torchsummary import summary\n",
        "from sklearn.metrics import (\n",
        "    f1_score,\n",
        "    accuracy_score,\n",
        "    recall_score,\n",
        "    precision_score,\n",
        "    confusion_matrix,\n",
        ")"
      ],
      "metadata": {
        "id": "lL-HkjWte64e"
      }
    },
    {
      "cell_type": "code",
      "source": [
        "drive.mount(\"/content/drive\")\n",
        "warnings.simplefilter(\"ignore\")\n",
        "\n",
        "\n",
        "def clear():\n",
        "    gc.collect()\n",
        "    torch.cuda.empty_cache()\n",
        "\n",
        "\n",
        "def join_path(*args):\n",
        "    return os.path.join(\"/content/drive/MyDrive/Capstone\", *args)\n",
        "\n",
        "\n",
        "train_csv = join_path(\"data\", \"train.pk\")\n",
        "dev_csv = join_path(\"data\", \"dev.pk\")\n",
        "test_csv = join_path(\"data\", \"test.pk\")\n",
        "\n",
        "train_data = pickle.load(open(train_csv, 'rb'))\n",
        "dev_data = pickle.load(open(dev_csv, 'rb'))\n",
        "test_data = pickle.load(open(test_csv, 'rb'))\n",
        "\n",
        "device = \"cuda\" if torch.cuda.is_available() else \"cpu\"\n",
        "RAND_SEED = 42\n",
        "BATCH_SIZE = 8\n",
        "EPOCHS = 100\n",
        "LEARNING_RATE = 2e-5\n",
        "SMOOTHING = 0.0\n",
        "MODEL_PATH = join_path(\"tdcn.pth\")"
      ],
      "metadata": {
        "id": "t2jmj2H9kULo"
      },
      "execution_count": null,
      "outputs": []
    },
    {
      "cell_type": "code",
      "source": [
        "def seed_everything(seed):\n",
        "    random.seed(seed)\n",
        "    os.environ['PYTHONHASHSEED'] = str(seed)\n",
        "    np.random.seed(seed)\n",
        "    torch.manual_seed(seed)\n",
        "    torch.cuda.manual_seed(seed)\n",
        "    torch.backends.cudnn.deterministic = True\n",
        "    torch.backends.cudnn.benchmark = True\n",
        "\n",
        "seed_everything(RAND_SEED)"
      ],
      "metadata": {
        "id": "OlsXH3mzt4AW"
      },
      "execution_count": null,
      "outputs": []
    },
    {
      "cell_type": "code",
      "source": [
        "class EarlyStopping(object):\n",
        "    def __init__(self, patience=2, save_path=\"model.pth\", eps=1e-6):\n",
        "        self._min_loss = np.inf\n",
        "        self._patience = patience\n",
        "        self._path = save_path\n",
        "        self._eps = eps\n",
        "        self.__counter = 0\n",
        "\n",
        "    def should_stop(self, model, loss):\n",
        "        if loss < self._min_loss:\n",
        "            self._min_loss = loss\n",
        "            self.__counter = 0\n",
        "            torch.save(model.state_dict(), self._path)\n",
        "        elif loss > self._min_loss + self._eps:\n",
        "            self.__counter += 1\n",
        "            if self.__counter >= self._patience:\n",
        "                return True\n",
        "        return False\n",
        "\n",
        "    def load(self, model):\n",
        "        model.load_state_dict(torch.load(self._path))\n",
        "        return model\n",
        "\n",
        "    @property\n",
        "    def counter(self):\n",
        "        return self.__counter"
      ],
      "metadata": {
        "id": "7gZaxhAa26Sk"
      },
      "execution_count": null,
      "outputs": []
    },
    {
      "cell_type": "markdown",
      "source": [
        "# Dataset"
      ],
      "metadata": {
        "collapsed": false,
        "id": "_HWRXs1Oe64f"
      }
    },
    {
      "cell_type": "code",
      "source": [
        "class CustomDataset(Dataset):\n",
        "    \"\"\"데이터 처리\"\"\"\n",
        "    def __init__(self, data, up_count = 500, data_size = 5000):\n",
        "        self.data = {}\n",
        "        for k, v in data.items():\n",
        "            tmp = {\n",
        "                'pose' : torch.FloatTensor(v['pose'].astype('float').values),\n",
        "                'features' : torch.FloatTensor(v['features'].astype('float').values),\n",
        "                'y' : torch.IntTensor([v['y']])\n",
        "            }\n",
        "            self.data[k] = tmp\n",
        "            break\n",
        "        self.up_count = up_count\n",
        "        self.data_size = data_size\n",
        "        \n",
        "    def __len__(self):\n",
        "        return len(self.data) * self.up_count\n",
        "\n",
        "    def __getitem__(self, index):\n",
        "        target_data = random.choice(list(self.data.values()))\n",
        "        x1 = target_data['features']\n",
        "        x2 = target_data['pose']\n",
        "        cut = random.randrange(0, len(x1)-self.data_size)\n",
        "        x1 = x1[cut: cut + self.data_size]\n",
        "        x2 = x2[cut: cut + self.data_size]\n",
        "        y = target_data['y']\n",
        "        return (x1, x2), y"
      ],
      "metadata": {
        "id": "ubXk37S_P3lN"
      },
      "execution_count": null,
      "outputs": []
    },
    {
      "cell_type": "code",
      "source": [
        "# 데이터셋\n",
        "training_dataset = CustomDataset(train_data)\n",
        "dev_dataset = CustomDataset(dev_data, up_count=1)\n",
        "test_dataset = CustomDataset(test_data, up_count=10)\n",
        "\n",
        "train_dataloader = DataLoader(training_dataset, batch_size=BATCH_SIZE)\n",
        "dev_dataloader = DataLoader(dev_dataset, batch_size=BATCH_SIZE)\n",
        "test_dataloader = DataLoader(test_dataset, batch_size=BATCH_SIZE)"
      ],
      "metadata": {
        "id": "BDcQPq_7d41e"
      },
      "execution_count": null,
      "outputs": []
    },
    {
      "cell_type": "markdown",
      "source": [
        "# Dilated Conv Block"
      ],
      "metadata": {
        "collapsed": false,
        "id": "S9UN2GeEe64g"
      }
    },
    {
      "cell_type": "code",
      "execution_count": null,
      "outputs": [],
      "source": [
        "class DilatedConvBlock(nn.Module):\n",
        "    \"\"\"모델 내의 DCN Block\"\"\"\n",
        "\n",
        "    def __init__(self, in_channels, out_channels, has_BN=False, batch_size=8):\n",
        "        super(DilatedConvBlock, self).__init__()\n",
        "        self._has_BN = has_BN\n",
        "        cnn_args = {\n",
        "            \"kernel_size\": (3, 3),\n",
        "            \"padding\": \"same\",\n",
        "        }\n",
        "        \"\"\"TODO: DilatedConvBlock 내부에 있는 Conv2d의 In/Out channels\n",
        "        단순히 첫 Conv의 in_channels과 마지막 Conv의 out_channels만\n",
        "        논문에 따라 맞춰둔 상태입니다. 중간에 있는 channel 값들은\n",
        "        어떻게 설정해야 할지 답을 찾지 못했습니다. \n",
        "        \"\"\"\n",
        "        self.dilated_conv1 = nn.Conv2d(\n",
        "            in_channels, out_channels, dilation=1, **cnn_args\n",
        "        )\n",
        "        self.dilated_conv2 = nn.Conv2d(\n",
        "            out_channels, out_channels, dilation=2, **cnn_args\n",
        "        )\n",
        "        self.dilated_conv3 = nn.Conv2d(\n",
        "            out_channels, out_channels, dilation=4, **cnn_args\n",
        "        )\n",
        "        self.conv1d = nn.Conv2d(in_channels, out_channels, kernel_size=1)\n",
        "        self.batch_norm = nn.BatchNorm2d(out_channels)\n",
        "\n",
        "    def forward(self, x):\n",
        "        x_1d = self.conv1d(x)\n",
        "\n",
        "        # DCN with d=1\n",
        "        x_2d_1 = self.dilated_conv1(x)\n",
        "        x_2d_2 = self.dilated_conv1(x)\n",
        "        x_2d = x_2d_1 + x_2d_2\n",
        "        x_2d = F.elu(x_2d)\n",
        "\n",
        "        # DCN with d=2\n",
        "        x_2d_1 = self.dilated_conv2(x_2d)\n",
        "        x_2d_2 = self.dilated_conv2(x_2d)\n",
        "        x_2d = x_2d_1 + x_2d_2\n",
        "        x_2d = F.elu(x_2d)\n",
        "\n",
        "        # DCN with d=4\n",
        "        x_2d_1 = self.dilated_conv3(x_2d)\n",
        "        x_2d_2 = self.dilated_conv3(x_2d)\n",
        "        x_2d = x_2d_1 + x_2d_2\n",
        "        x_2d = F.elu(x_2d)\n",
        "\n",
        "        x = x_1d + x_2d\n",
        "\n",
        "        if self._has_BN:\n",
        "            x = self.batch_norm(x)\n",
        "        return x"
      ],
      "metadata": {
        "id": "lrxuDgMLe64g"
      }
    },
    {
      "cell_type": "code",
      "execution_count": null,
      "outputs": [],
      "source": [
        "class TDCN(nn.Module):\n",
        "    \"\"\"모델 전체 구조\"\"\"\n",
        "\n",
        "    def __init__(self, channels, batch_size=8):\n",
        "        super(TDCN, self).__init__()\n",
        "\n",
        "        dcn_args = {\"has_BN\": True, \"batch_size\": batch_size}\n",
        "        pool_args = {\"kernel_size\": (2, 1)}\n",
        "        self.tdcn = nn.Sequential(\n",
        "            DilatedConvBlock(channels[0], channels[1], **dcn_args),\n",
        "            nn.MaxPool2d(**pool_args),\n",
        "            DilatedConvBlock(channels[1], channels[2], **dcn_args),\n",
        "            nn.MaxPool2d(**pool_args),\n",
        "            DilatedConvBlock(channels[2], channels[3], **dcn_args),\n",
        "            nn.MaxPool2d(**pool_args),\n",
        "            DilatedConvBlock(channels[3], channels[4], **dcn_args),\n",
        "            nn.MaxPool2d(**pool_args),\n",
        "            DilatedConvBlock(\n",
        "                channels[4], channels[5], batch_size=batch_size, has_BN=False\n",
        "            ),\n",
        "        )\n",
        "\n",
        "    def forward(self, x):\n",
        "        x = self.tdcn(x)\n",
        "        return x"
      ],
      "metadata": {
        "id": "9C1_4PqOe64j"
      }
    },
    {
      "cell_type": "code",
      "source": [
        "class PredictionModel(nn.Module):\n",
        "    \"\"\"모델 전체 구조\"\"\"\n",
        "    def __init__(self, batch_size=8):\n",
        "        super(PredictionModel, self).__init__()\n",
        "        self.feat_tdcn = TDCN(channels=[1, 256, 256, 128, 64, 64], batch_size=batch_size)\n",
        "        self.pose_tdcn = TDCN(channels=[1, 128, 64, 256, 128, 64], batch_size=batch_size)\n",
        "        self.attention = nn.Sequential(\n",
        "            nn.Linear(142, 142),\n",
        "            nn.ReLU(inplace=True),\n",
        "            nn.Linear(142, 142),\n",
        "            nn.Sigmoid(),\n",
        "        )\n",
        "        self.classifier = nn.Sequential(\n",
        "            nn.Flatten(1, -1),\n",
        "            nn.Linear(142 * 312 * 64, 142), \n",
        "            nn.Linear(142, 4), \n",
        "            nn.Linear(4, 2),\n",
        "            nn.Softmax(-1)\n",
        "        )\n",
        "        \"\"\"TODO: 최종 분류층(classifier)에 있는 Linear layer\n",
        "        1. nn.Linear의 input -> output이 급격하게 감소해도 \n",
        "        모델 성능에 영향을 미치지 않는지 궁금합니다. \n",
        "        2. Linear 이후에 활성화 함수가 논문에는 명시되어 있지 않아\n",
        "        따로 추가를 해야할지 궁금합니다.  \n",
        "\n",
        "        + nn.Linear(142 * 312 * 64, 142),  \n",
        "        이 부분은 수정이 필요할 수 있습니다. \n",
        "        \"\"\"\n",
        "\n",
        "    def fwa(self, x1, x2):\n",
        "        x = torch.cat((x1, x2), dim=-1)\n",
        "        x_ = torch.mean(x, dim=2)\n",
        "        x_ = self.attention(x_)\n",
        "        x_ = torch.unsqueeze(x_, 2)\n",
        "        x = torch.mul(x, x_)\n",
        "        return x\n",
        "    \n",
        "    def forward(self, feat_x, pose_x):\n",
        "        feat_x = self.feat_tdcn(feat_x)\n",
        "        pose_x = self.feat_tdcn(pose_x)\n",
        "        out = self.fwa(feat_x, pose_x)\n",
        "        out = self.classifier(out)\n",
        "        return out"
      ],
      "metadata": {
        "id": "rt4gotEm8Ini"
      },
      "execution_count": null,
      "outputs": []
    },
    {
      "cell_type": "markdown",
      "source": [
        "# Train"
      ],
      "metadata": {
        "collapsed": false,
        "id": "fcQgUbHde64k"
      }
    },
    {
      "cell_type": "code",
      "source": [
        "loss_fn = nn.CrossEntropyLoss(label_smoothing=SMOOTHING)\n",
        "model = PredictionModel(BATCH_SIZE)\n",
        "optimizer = optim.SGD(model.parameters(), lr=LEARNING_RATE, momentum=0.9)"
      ],
      "metadata": {
        "id": "Ktr4hlZ7P57R"
      },
      "execution_count": null,
      "outputs": []
    },
    {
      "cell_type": "code",
      "source": [
        "model.to(device)\n",
        "summary(model, [(1, 5000, 136), (1, 5000, 6)], batch_size=BATCH_SIZE)"
      ],
      "metadata": {
        "id": "_UxdPWPzCBGH"
      },
      "execution_count": null,
      "outputs": []
    },
    {
      "cell_type": "code",
      "execution_count": null,
      "outputs": [],
      "source": [
        "def train(train_loader, dev_loader, model, loss_fn, optimizer):\n",
        "    model.to(device)\n",
        "    loss_fn.to(device)\n",
        "    optimizer.zero_grad()\n",
        "    num_batches = len(train_loader)\n",
        "    early_stopper = EarlyStopping(patience=3, save_path=MODEL_PATH)\n",
        "\n",
        "    epoch_progress = trange(1, EPOCHS + 1)\n",
        "    tqdm.write(\"\\nEpoch | Train Loss | Test Loss\")\n",
        "    tqdm.write(\"-\" * 30)\n",
        "\n",
        "    for epoch in epoch_progress:\n",
        "        model.train()\n",
        "        train_loss = 0\n",
        "        for (x1, x2), label in train_loader:\n",
        "            x1 = x1.unsqueeze(1).to(device)\n",
        "            x2 = x2.unsqueeze(1).to(device)\n",
        "            label = label.to(device).long().reshape(-1)\n",
        "            # x1: [8, 1, 5000, 136] > [Batch, Channel, Height, Width]\n",
        "            # x2: [8, 1, 5000, 6] > [Batch, Channel, Height, Width]\n",
        "            # label: [8] > [Height]\n",
        "\n",
        "            pred = model(x1, x2)\n",
        "            # pred: [8, 2] > [Batch, Logits with Softmax]\n",
        "            loss = loss_fn(pred, label)\n",
        "            train_loss += loss.item()\n",
        "\n",
        "            loss.backward()\n",
        "            optimizer.step()\n",
        "            optimizer.zero_grad()\n",
        "\n",
        "        train_loss /= num_batches\n",
        "\n",
        "        dev_loss = evaluate(dev_loader, model, loss_fn)\n",
        "        tqdm.write(f\"{epoch:5} | {train_loss:10.5f} | {dev_loss:9.5f}\")\n",
        "\n",
        "        if early_stopper.should_stop(model, dev_loss):\n",
        "            tqdm.write(f\"--EarlyStopping: [Epoch: {epoch - early_stopper.counter}]\")\n",
        "            break\n",
        "\n",
        "    model = early_stopper.load(model)\n",
        "    return model\n",
        "\n",
        "\n",
        "def evaluate(test_loader, model, loss_fn, return_metrics=False):\n",
        "    model.eval()\n",
        "    num_batches = len(test_loader)\n",
        "    test_loss = 0\n",
        "    true_labels = list()\n",
        "    pred_values = list()\n",
        "\n",
        "    with torch.no_grad():\n",
        "        for (x1, x2), label in test_loader:\n",
        "            x1 = x1.unsqueeze(1).to(device)\n",
        "            x2 = x2.unsqueeze(1).to(device)\n",
        "            label = label.to(device).long().reshape(-1)\n",
        "\n",
        "            pred = model(x1, x2)\n",
        "            loss = loss_fn(pred, label)\n",
        "            test_loss += loss.item()\n",
        "\n",
        "            if return_metrics:\n",
        "                true_labels += label.detach().cpu().numpy().tolist()\n",
        "                pred_values += pred.argmax(-1).detach().cpu().numpy().tolist()\n",
        "\n",
        "    if not return_metrics:\n",
        "        # 학습 과정에서는 Loss 값만 확인합니다.\n",
        "        test_loss /= num_batches\n",
        "        return test_loss\n",
        "\n",
        "    else:\n",
        "        # 학습이 종료되고 성능 평가 지표를 확인합니다.\n",
        "        accuracy = accuracy_score(true_labels, pred_values)\n",
        "        f1 = f1_score(true_labels, pred_values)\n",
        "        f1_macro = f1_score(true_labels, pred_values, average=\"macro\")\n",
        "        recall = recall_score(true_labels, pred_values)\n",
        "        precision = precision_score(true_labels, pred_values)\n",
        "        matrix = confusion_matrix(true_labels, pred_values).ravel()\n",
        "\n",
        "        return {\n",
        "            \"accuracy\": accuracy,\n",
        "            \"f1\": f1,\n",
        "            \"f1-macro\": f1_macro,\n",
        "            \"recall\": recall,\n",
        "            \"precision\": precision,\n",
        "            \"loss\": test_loss,\n",
        "            \"matrix\": matrix,\n",
        "        }"
      ],
      "metadata": {
        "id": "-QrKKtm7e64l"
      }
    },
    {
      "cell_type": "code",
      "execution_count": null,
      "outputs": [],
      "source": [
        "# 모델 학습\n",
        "model = train(train_dataloader, dev_dataloader, model, loss_fn, optimizer)"
      ],
      "metadata": {
        "id": "XcGPq1v8e64m"
      }
    },
    {
      "cell_type": "code",
      "source": [
        "# 모델 저장\n",
        "torch.save(\n",
        "    {\n",
        "        \"epoch\": EPOCHS,\n",
        "        \"learning_rate\": LEARNING_RATE,\n",
        "        \"model_state\": model.state_dict(),\n",
        "        \"optimizer_state\": optimizer.state_dict(),\n",
        "    },\n",
        "    MODEL_PATH,\n",
        ")"
      ],
      "metadata": {
        "id": "-FIrKDQ2pr94"
      },
      "execution_count": null,
      "outputs": []
    },
    {
      "cell_type": "markdown",
      "source": [
        "# Evaluation"
      ],
      "metadata": {
        "collapsed": false,
        "id": "h4EhOqNae64m"
      }
    },
    {
      "cell_type": "code",
      "source": [
        "clear()\n",
        "metrics = evaluate(test_dataloader, model, loss_fn, return_metrics=True)\n",
        "\n",
        "print(f\"Accuracy:  {metrics['accuracy']:.3f}\")\n",
        "print(f\"F1-score:  {metrics['f1']:.3f}\")\n",
        "print(f\"F1-macro:  {metrics['f1-macro']:.3f}\")\n",
        "print(f\"Recall:    {metrics['recall']:.3f}\")\n",
        "print(f\"Precision: {metrics['precision']:.3f}\")\n",
        "\n",
        "print(\"-\" * 30)\n",
        "tn, fp, fn, tp = metrics[\"matrix\"]\n",
        "print(f\"TN: {tn}\")\n",
        "print(f\"FP: {fp}\")\n",
        "print(f\"FN: {fn}\")\n",
        "print(f\"TP: {tp}\")"
      ],
      "metadata": {
        "id": "lWRsevGPqWxG"
      },
      "execution_count": null,
      "outputs": []
    },
    {
      "cell_type": "code",
      "source": [
        "def show_probs(test_data, model, max=6):\n",
        "    dataloader = DataLoader(test_data, batch_size=1, shuffle=True)\n",
        "\n",
        "    model.eval()\n",
        "    neg_max = max // 2\n",
        "    pos_max = max - neg_max\n",
        "    pos_count = 0\n",
        "    neg_count = 0\n",
        "    with torch.no_grad():\n",
        "        for (x1, x2), label in dataloader:\n",
        "            x1 = x1.unsqueeze(1).to(device)\n",
        "            x2 = x2.unsqueeze(1).to(device)\n",
        "\n",
        "            if label.item() == 0 and pos_count < pos_max:\n",
        "                pos_count += 1\n",
        "                label = label.item()\n",
        "            elif label.item() == 1 and neg_count < neg_max:\n",
        "                neg_count += 1\n",
        "                label = label.item()\n",
        "            elif pos_count + neg_count == max:\n",
        "                break\n",
        "            else:\n",
        "                continue\n",
        "\n",
        "            pred = model(x1, x2)\n",
        "            normal, abnormal = pred.squeeze(0)\n",
        "            print(f\"{label}: [{normal:.3f}  {abnormal:.3f}]\")\n",
        "\n",
        "\n",
        "show_probs(test_dataset, model, 30)"
      ],
      "metadata": {
        "id": "WfTZ_iNfLojc"
      },
      "execution_count": null,
      "outputs": []
    }
  ],
  "metadata": {
    "kernelspec": {
      "display_name": "Python 3",
      "language": "python",
      "name": "python3"
    },
    "language_info": {
      "codemirror_mode": {
        "name": "ipython",
        "version": 2
      },
      "file_extension": ".py",
      "mimetype": "text/x-python",
      "name": "python",
      "nbconvert_exporter": "python",
      "pygments_lexer": "ipython2",
      "version": "2.7.6"
    },
    "colab": {
      "provenance": [],
      "machine_shape": "hm",
      "include_colab_link": true
    },
    "gpuClass": "standard",
    "accelerator": "GPU"
  },
  "nbformat": 4,
  "nbformat_minor": 0
}