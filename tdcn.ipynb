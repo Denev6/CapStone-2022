{
  "cells": [
    {
      "cell_type": "markdown",
      "metadata": {
        "id": "view-in-github",
        "colab_type": "text"
      },
      "source": [
        "<a href=\"https://colab.research.google.com/github/Denev6/CapStone/blob/main/tdcn.ipynb\" target=\"_parent\"><img src=\"https://colab.research.google.com/assets/colab-badge.svg\" alt=\"Open In Colab\"/></a>"
      ]
    },
    {
      "cell_type": "markdown",
      "source": [
        "# TDCN 이미지 예측 모델 구현"
      ],
      "metadata": {
        "collapsed": false,
        "id": "w78x_jwKe64c"
      }
    },
    {
      "cell_type": "code",
      "execution_count": 2,
      "outputs": [],
      "source": [
        "import os\n",
        "import warnings\n",
        "from google.colab import drive\n",
        "\n",
        "import pandas as pd\n",
        "from tqdm.auto import tqdm, trange\n",
        "import torch\n",
        "from torch import nn\n",
        "import torch.nn.functional as F\n",
        "from torch.utils.data import Dataset, DataLoader\n",
        "from sklearn.metrics import (\n",
        "    f1_score,\n",
        "    accuracy_score,\n",
        "    recall_score,\n",
        "    precision_score,\n",
        "    confusion_matrix,\n",
        ")"
      ],
      "metadata": {
        "id": "lL-HkjWte64e"
      }
    },
    {
      "cell_type": "code",
      "source": [
        "drive.mount(\"/content/drive\")\n",
        "warnings.simplefilter(\"ignore\")\n",
        "\n",
        "device = \"cuda\" if torch.cuda.is_available() else \"cpu\"\n",
        "BATCH_SIZE = 8\n",
        "EPOCHS = 50\n",
        "LEARNING_RATE = 2e-6\n",
        "CWD = \"/content/drive/MyDrive/Capstone\"\n",
        "\n",
        "\n",
        "def join_path(*args):\n",
        "    return os.path.join(CWD, *args)\n",
        "\n",
        "\n",
        "TRAIN_CSV = [\n",
        "    join_path(\"data\", csv)\n",
        "    for csv in [\"feat_xtrain.csv\", \"pose_xtrain.csv\", \"ytrain.csv\"]\n",
        "]\n",
        "TEST_CSV = [\n",
        "    join_path(\"data\", csv) for csv in [\"feat_xtest.csv\", \"pose_xtest.csv\", \"ytest.csv\"]\n",
        "]"
      ],
      "metadata": {
        "id": "t2jmj2H9kULo"
      },
      "execution_count": null,
      "outputs": []
    },
    {
      "cell_type": "markdown",
      "source": [
        "# Dataset"
      ],
      "metadata": {
        "collapsed": false,
        "id": "_HWRXs1Oe64f"
      }
    },
    {
      "cell_type": "code",
      "source": [
        "class CustomDataset(Dataset):\n",
        "    def __init__(self, x1_file, x2_file, y_file, mode=None):\n",
        "        x1_df = pd.read_csv(x1_file)  # landmark data\n",
        "        x2_df = pd.read_csv(x2_file)  # pose data\n",
        "        y_df = pd.read_csv(y_file)\n",
        "\n",
        "        x1 = x1_df.values\n",
        "        x2 = x2_df.values\n",
        "        if mode == \"train\":\n",
        "            y = y_df.iloc[:, 1].values\n",
        "        else:\n",
        "            y = y_df.values\n",
        "\n",
        "        self.x1_data = torch.FloatTensor(x1)\n",
        "        self.x2_data = torch.FloatTensor(x2)\n",
        "        self.y_data = torch.IntTensor(y)\n",
        "\n",
        "    def __len__(self):\n",
        "        return len(self.y_data)\n",
        "\n",
        "    def __getitem__(self, index):\n",
        "        return (\n",
        "            self.x1_data[index * 5000 : (index + 1) * 5000],\n",
        "            self.x2_data[index * 5000 : (index + 1) * 5000],\n",
        "        ), self.y_data[index]"
      ],
      "metadata": {
        "id": "ubXk37S_P3lN"
      },
      "execution_count": 4,
      "outputs": []
    },
    {
      "cell_type": "code",
      "source": [
        "# 데이터셋\n",
        "training_data = CustomDataset(*TRAIN_CSV, mode=\"train\")\n",
        "test_data = CustomDataset(*TEST_CSV)\n",
        "\n",
        "train_dataloader = DataLoader(training_data, batch_size=BATCH_SIZE)\n",
        "test_dataloader = DataLoader(test_data, batch_size=BATCH_SIZE)"
      ],
      "metadata": {
        "id": "BDcQPq_7d41e"
      },
      "execution_count": 5,
      "outputs": []
    },
    {
      "cell_type": "markdown",
      "source": [
        "# Dilated Conv Block"
      ],
      "metadata": {
        "collapsed": false,
        "id": "S9UN2GeEe64g"
      }
    },
    {
      "cell_type": "code",
      "execution_count": 6,
      "outputs": [],
      "source": [
        "class DilatedConvBlock(nn.Module):\n",
        "    def __init__(self, has_BN=False, batch_size=8):\n",
        "        super(DilatedConvBlock, self).__init__()\n",
        "        self._c = 1\n",
        "        self._has_BN = has_BN\n",
        "\n",
        "        self.dilated_conv1 = self.dilated_conv(1)\n",
        "        self.dilated_conv2 = self.dilated_conv(2)\n",
        "        self.dilated_conv3 = self.dilated_conv(4)\n",
        "        self.conv1d = nn.Conv2d(self._c, self._c, kernel_size=(1, 1))\n",
        "        self.BN = nn.BatchNorm2d(self._c, affine=True)\n",
        "\n",
        "    def dilated_conv(self, d):\n",
        "        return nn.Conv2d(\n",
        "            self._c,\n",
        "            self._c,\n",
        "            kernel_size=(3, 3),\n",
        "            stride=1,\n",
        "            padding=\"same\",\n",
        "            dilation=d,\n",
        "            bias=True,\n",
        "            padding_mode=\"zeros\",\n",
        "        )\n",
        "\n",
        "    def forward(self, x):\n",
        "        x_1d = self.conv1d(x)\n",
        "\n",
        "        # DCN with d=1\n",
        "        x_2d_1 = self.dilated_conv1(x)\n",
        "        x_2d_2 = self.dilated_conv1(x)\n",
        "        x_2d = x_2d_1 + x_2d_2\n",
        "        x_2d = F.elu(x_2d)\n",
        "\n",
        "        # DCN with d=2\n",
        "        x_2d_1 = self.dilated_conv2(x_2d)\n",
        "        x_2d_2 = self.dilated_conv2(x_2d)\n",
        "        x_2d = x_2d_1 + x_2d_2\n",
        "        x_2d = F.elu(x_2d)\n",
        "\n",
        "        # DCN with d=4\n",
        "        x_2d_1 = self.dilated_conv3(x_2d)\n",
        "        x_2d_2 = self.dilated_conv3(x_2d)\n",
        "        x_2d = x_2d_1 + x_2d_2\n",
        "        x_2d = F.elu(x_2d)\n",
        "\n",
        "        x = x_2d_1 + x_2d_2\n",
        "\n",
        "        if self._has_BN:\n",
        "            x = self.BN(x)\n",
        "        return x"
      ],
      "metadata": {
        "id": "lrxuDgMLe64g"
      }
    },
    {
      "cell_type": "markdown",
      "source": [
        "# TDCN + FWA + Prediction"
      ],
      "metadata": {
        "collapsed": false,
        "id": "8PhfhSGUe64i"
      }
    },
    {
      "cell_type": "code",
      "execution_count": 7,
      "outputs": [],
      "source": [
        "class PredictionModel(nn.Module):\n",
        "    def __init__(self, batch_size=8):\n",
        "        super(PredictionModel, self).__init__()\n",
        "\n",
        "        self.TDCN = nn.Sequential(\n",
        "            DilatedConvBlock(has_BN=True, batch_size=BATCH_SIZE),\n",
        "            nn.MaxPool2d(kernel_size=(2, 1), stride=None),\n",
        "            DilatedConvBlock(has_BN=True, batch_size=BATCH_SIZE),\n",
        "            nn.MaxPool2d(kernel_size=(2, 1), stride=None),\n",
        "            DilatedConvBlock(has_BN=True, batch_size=BATCH_SIZE),\n",
        "            nn.MaxPool2d(kernel_size=(2, 1), stride=None),\n",
        "            DilatedConvBlock(has_BN=True, batch_size=BATCH_SIZE),\n",
        "            nn.MaxPool2d(kernel_size=(2, 1), stride=None),\n",
        "            DilatedConvBlock(has_BN=False),\n",
        "        )\n",
        "        self.classify = nn.Sequential(\n",
        "            nn.Linear(142, 64), nn.Linear(64, 64), nn.Linear(64, 2), nn.Softmax(dim=3)\n",
        "        )\n",
        "\n",
        "        self.attention_layer = nn.Sequential(\n",
        "            nn.Linear(142, 142),\n",
        "            nn.ReLU(inplace=True),\n",
        "            nn.Linear(142, 142),\n",
        "            nn.Sigmoid(),\n",
        "        )\n",
        "\n",
        "    def global_average_pooling(self, x):\n",
        "        return torch.mean(x, dim=2)\n",
        "\n",
        "    def FWA(self, x1, x2):\n",
        "        x = torch.concat((x1, x2), dim=3)\n",
        "        x_ = self.global_average_pooling(x)\n",
        "        x_ = self.attention_layer(x_)\n",
        "        x_ = torch.unsqueeze(x_, 2)\n",
        "        x = torch.mul(x, x_)\n",
        "\n",
        "        return x\n",
        "\n",
        "    def forward(self, x_landmark, x_pose):\n",
        "        x_landmark = self.TDCN(x_landmark)\n",
        "        x_pose = self.TDCN(x_pose)\n",
        "        x = self.FWA(x_landmark, x_pose)\n",
        "        score = self.classify(x)\n",
        "        score = score.mean(dim=2)\n",
        "        return score"
      ],
      "metadata": {
        "id": "9C1_4PqOe64j"
      }
    },
    {
      "cell_type": "markdown",
      "source": [
        "# Train"
      ],
      "metadata": {
        "collapsed": false,
        "id": "fcQgUbHde64k"
      }
    },
    {
      "cell_type": "code",
      "source": [
        "loss_fn = nn.CrossEntropyLoss()\n",
        "model = PredictionModel(BATCH_SIZE).to(device)\n",
        "optimizer = torch.optim.SGD(model.parameters(), lr=LEARNING_RATE, momentum=0.9)"
      ],
      "metadata": {
        "id": "Ktr4hlZ7P57R"
      },
      "execution_count": null,
      "outputs": []
    },
    {
      "cell_type": "code",
      "execution_count": 11,
      "outputs": [],
      "source": [
        "def train(dataloader, model, loss_fn, optimizer):\n",
        "    size = len(dataloader.dataset)\n",
        "    train_loss = 0\n",
        "    for batch, (X, labels) in enumerate(dataloader):\n",
        "        x1, x2 = X\n",
        "        x1, x2 = x1.to(device), x2.to(device)\n",
        "\n",
        "        y = list()\n",
        "        for i, label in enumerate(labels):\n",
        "            y.append([1, 0] if label.item() == 0 else [0, 1])\n",
        "        y = torch.FloatTensor(y).to(device)\n",
        "\n",
        "        pred = model(\n",
        "            x1.unsqueeze(0).permute(1, 0, 2, 3), x2.unsqueeze(0).permute(1, 0, 2, 3)\n",
        "        )\n",
        "        loss = loss_fn(pred.squeeze(1), y)\n",
        "\n",
        "        optimizer.zero_grad()\n",
        "        loss.backward()\n",
        "        optimizer.step()\n",
        "        train_loss += loss.item()\n",
        "    train_loss /= batch + 1\n",
        "    return train_loss\n",
        "\n",
        "\n",
        "def test(dataloader, model, loss_fn, return_metrics=False):\n",
        "    model.eval()\n",
        "    num_batches = len(dataloader)\n",
        "    test_loss = 0\n",
        "    real_values = torch.IntTensor()\n",
        "    pred_values = torch.IntTensor()\n",
        "\n",
        "    with torch.no_grad():\n",
        "        for X, labels in dataloader:\n",
        "            x1, x2 = X\n",
        "            x1, x2 = x1.to(device), x2.to(device)\n",
        "\n",
        "            y = list()\n",
        "            for i, label in enumerate(labels):\n",
        "                y.append([1, 0] if label.item() == 0 else [0, 1])\n",
        "            y = torch.FloatTensor(y).to(device)\n",
        "\n",
        "            pred = model(\n",
        "                x1.unsqueeze(0).permute(1, 0, 2, 3), x2.unsqueeze(0).permute(1, 0, 2, 3)\n",
        "            )\n",
        "            pred = pred.squeeze()\n",
        "\n",
        "            test_loss += loss_fn(pred.squeeze(1), y).item()\n",
        "\n",
        "            if return_metrics:\n",
        "                real_values = torch.cat((real_values, labels), dim=0)\n",
        "                pred_values = torch.cat(\n",
        "                    (pred_values, pred.argmax(-1).cpu().detach().to(torch.int32)), dim=0\n",
        "                )\n",
        "\n",
        "    if not return_metrics:\n",
        "        # 학습 과정에서는 Loss 값만 확인합니다.\n",
        "        test_loss /= num_batches\n",
        "        return test_loss\n",
        "\n",
        "    else:\n",
        "        # 학습이 종료되고 성능 평가 지표를 확인합니다.\n",
        "        real_values = real_values.squeeze().numpy()\n",
        "        pred_values = pred_values.squeeze().numpy()\n",
        "\n",
        "        accuracy = accuracy_score(real_values, pred_values)\n",
        "        f1 = f1_score(real_values, pred_values)\n",
        "        f1_macro = f1_score(real_values, pred_values, average=\"macro\")\n",
        "        recall = recall_score(real_values, pred_values)\n",
        "        precision = precision_score(real_values, pred_values)\n",
        "        matrix = confusion_matrix(real_values, pred_values).ravel()\n",
        "\n",
        "        return {\n",
        "            \"accuracy\": accuracy,\n",
        "            \"f1\": f1,\n",
        "            \"f1-macro\": f1_macro,\n",
        "            \"recall\": recall,\n",
        "            \"precision\": precision,\n",
        "            \"loss\": test_loss,\n",
        "            \"matrix\": matrix,\n",
        "        }"
      ],
      "metadata": {
        "id": "-QrKKtm7e64l"
      }
    },
    {
      "cell_type": "code",
      "execution_count": null,
      "outputs": [
        {
          "output_type": "display_data",
          "data": {
            "text/plain": [
              "  0%|          | 0/50 [00:00<?, ?it/s]"
            ],
            "application/vnd.jupyter.widget-view+json": {
              "version_major": 2,
              "version_minor": 0,
              "model_id": "f67065ba80174e5e8eb7fe4c79698828"
            }
          },
          "metadata": {}
        },
        {
          "output_type": "stream",
          "name": "stdout",
          "text": [
            "\n",
            "Epoch | Train Loss | Test Loss\n",
            "------------------------------\n",
            "   10 |    0.70572 |   0.70762\n",
            "   20 |    0.70446 |   0.70617\n",
            "   30 |    0.70325 |   0.70478\n",
            "   40 |    0.70209 |   0.70344\n",
            "   50 |    0.70097 |   0.70216\n"
          ]
        }
      ],
      "source": [
        "epoch_progress = trange(1, EPOCHS + 1)\n",
        "tqdm.write(\"\\nEpoch | Train Loss | Test Loss\")\n",
        "tqdm.write(\"-\" * 30)\n",
        "\n",
        "for epoch in epoch_progress:\n",
        "    train_loss = train(train_dataloader, model, loss_fn, optimizer)\n",
        "    test_loss = test(test_dataloader, model, loss_fn)\n",
        "\n",
        "    if epoch % 10 == 0:\n",
        "        tqdm.write(f\"{epoch:5} | {train_loss:10.5f} | {test_loss:9.5f}\")"
      ],
      "metadata": {
        "id": "XcGPq1v8e64m",
        "colab": {
          "base_uri": "https://localhost:8080/",
          "height": 188,
          "referenced_widgets": [
            "f67065ba80174e5e8eb7fe4c79698828",
            "2c1c2ac8dfcd42c6b686128a311539e2",
            "8f4953e3f4464b35a438bcf01216c8bb",
            "b9b8b6ee5bce4b8f810678da6d55dab5",
            "3a62338377fd4f25864c8fd1d329db8d",
            "9376f46f706f4fd5952a8a55cc4267f0",
            "1618f7351c9e4ea4a07fbceac32ef6be",
            "16d7b3f9da1a4f3081bef1ea8da5c30b",
            "6ee8625ef2f2415e9805bba79c14498a",
            "c2f8a0c2849042ae8c9a7e153cc147b5",
            "0fbf04ea12444742b0c55883995aa430"
          ]
        },
        "outputId": "f4844002-9564-4df6-eee0-15c083f06f21"
      }
    },
    {
      "cell_type": "code",
      "source": [
        "torch.save(\n",
        "    {\n",
        "        \"epoch\": EPOCHS,\n",
        "        \"learning_rate\": LEARNING_RATE,\n",
        "        \"model_state\": model.state_dict(),\n",
        "        \"optimizer_state\": optimizer.state_dict(),\n",
        "    },\n",
        "    join_path(\"tdcn.pth\"),\n",
        ")\n",
        "torch.cuda.empty_cache()"
      ],
      "metadata": {
        "id": "-FIrKDQ2pr94"
      },
      "execution_count": null,
      "outputs": []
    },
    {
      "cell_type": "markdown",
      "source": [
        "# Evaluation"
      ],
      "metadata": {
        "collapsed": false,
        "id": "h4EhOqNae64m"
      }
    },
    {
      "cell_type": "markdown",
      "source": [
        "```\n",
        "loss_fn = nn.CrossEntropyLoss()\n",
        "\n",
        "LEARNING_RATE = 2e-5\n",
        "checkpoint = torch.load(join_path(\"tdcn.pth\"))\n",
        "\n",
        "model = PredictionModel(BATCH_SIZE).to(device)\n",
        "model.load_state_dict(checkpoint[\"model_state\"])\n",
        "\n",
        "optimizer = torch.optim.SGD(model.parameters(), lr=LEARNING_RATE, momentum=0.9)\n",
        "optimizer.load_state_dict(checkpoint[\"optimizer_state\"])\n",
        "```"
      ],
      "metadata": {
        "id": "mmXECdeoHxrs"
      }
    },
    {
      "cell_type": "code",
      "source": [
        "loss_fn = nn.CrossEntropyLoss()\n",
        "\n",
        "checkpoint = torch.load(join_path(\"tdcn.pth\"))\n",
        "\n",
        "model = PredictionModel(BATCH_SIZE).to(device)\n",
        "model.load_state_dict(checkpoint[\"model_state\"])\n",
        "\n",
        "# optimizer = torch.optim.SGD(model.parameters(), lr=LEARNING_RATE, momentum=0.9)\n",
        "# optimizer.load_state_dict(checkpoint[\"optimizer_state\"])"
      ],
      "metadata": {
        "colab": {
          "base_uri": "https://localhost:8080/"
        },
        "id": "QLq5bpIQHnCn",
        "outputId": "2a7a8c22-2c2c-4b46-f352-24de0e392c83"
      },
      "execution_count": 13,
      "outputs": [
        {
          "output_type": "execute_result",
          "data": {
            "text/plain": [
              "<All keys matched successfully>"
            ]
          },
          "metadata": {},
          "execution_count": 13
        }
      ]
    },
    {
      "cell_type": "code",
      "source": [
        "metrics = test(test_dataloader, model, loss_fn, return_metrics=True)\n",
        "\n",
        "print(f\"Accuracy:  {metrics['accuracy']:.3f}\")\n",
        "print(f\"F1-score:  {metrics['f1']:.3f}\")\n",
        "print(f\"F1-macro:  {metrics['f1-macro']:.3f}\")\n",
        "print(f\"Recall:    {metrics['recall']:.3f}\")\n",
        "print(f\"Precision: {metrics['precision']:.3f}\")\n",
        "\n",
        "print(\"-\" * 30)\n",
        "tn, fp, fn, tp = metrics[\"matrix\"]\n",
        "print(f\"TN: {tn}\")\n",
        "print(f\"FP: {fp}\")\n",
        "print(f\"FN: {fn}\")\n",
        "print(f\"TP: {tp}\")"
      ],
      "metadata": {
        "id": "lWRsevGPqWxG",
        "colab": {
          "base_uri": "https://localhost:8080/"
        },
        "outputId": "4dc4a698-7440-4c69-f4db-a6607792f777"
      },
      "execution_count": 14,
      "outputs": [
        {
          "output_type": "stream",
          "name": "stdout",
          "text": [
            "Accuracy:  0.702\n",
            "F1-score:  0.000\n",
            "F1-macro:  0.412\n",
            "Recall:    0.000\n",
            "Precision: 0.000\n",
            "------------------------------\n",
            "TN: 33\n",
            "FP: 0\n",
            "FN: 14\n",
            "TP: 0\n"
          ]
        }
      ]
    },
    {
      "cell_type": "code",
      "source": [
        "def show_probs(test_data, model, max=6):\n",
        "    dataloader = DataLoader(test_data, batch_size=1, shuffle=True)\n",
        "\n",
        "    model.eval()\n",
        "    neg_max = max // 2\n",
        "    pos_max = max - neg_max\n",
        "    pos_count = 0\n",
        "    neg_count = 0\n",
        "    with torch.no_grad():\n",
        "        for X, label in dataloader:\n",
        "            x1, x2 = X\n",
        "            x1, x2 = x1.to(device), x2.to(device)\n",
        "\n",
        "            if label.item() == 0 and pos_count < pos_max:\n",
        "                y = [1, 0]\n",
        "                pos_count += 1\n",
        "                label = label.item()\n",
        "            elif label.item() == 1 and neg_count < neg_max:\n",
        "                y = [0, 1]\n",
        "                neg_count += 1\n",
        "                label = label.item()\n",
        "            elif pos_count + neg_count == max:\n",
        "                break\n",
        "            else:\n",
        "                continue\n",
        "\n",
        "            y = torch.FloatTensor(y).to(device)\n",
        "\n",
        "            pred = model(\n",
        "                x1.unsqueeze(0).permute(1, 0, 2, 3), x2.unsqueeze(0).permute(1, 0, 2, 3)\n",
        "            )\n",
        "            normal, abnormal = pred.squeeze()\n",
        "            print(f\"{label}: [{normal:.3f}  {abnormal:.3f}]\")\n",
        "\n",
        "\n",
        "show_probs(test_data, model, 10)"
      ],
      "metadata": {
        "id": "WfTZ_iNfLojc",
        "colab": {
          "base_uri": "https://localhost:8080/"
        },
        "outputId": "04f37a04-fd8b-4ac0-fa00-444982179026"
      },
      "execution_count": 15,
      "outputs": [
        {
          "output_type": "stream",
          "name": "stdout",
          "text": [
            "0: [0.874  0.126]\n",
            "1: [0.874  0.126]\n",
            "0: [0.874  0.126]\n",
            "0: [0.874  0.126]\n",
            "0: [0.874  0.126]\n",
            "1: [0.874  0.126]\n",
            "1: [0.874  0.126]\n",
            "0: [0.874  0.126]\n",
            "1: [0.874  0.126]\n",
            "1: [0.874  0.126]\n"
          ]
        }
      ]
    }
  ],
  "metadata": {
    "kernelspec": {
      "display_name": "Python 3",
      "language": "python",
      "name": "python3"
    },
    "language_info": {
      "codemirror_mode": {
        "name": "ipython",
        "version": 2
      },
      "file_extension": ".py",
      "mimetype": "text/x-python",
      "name": "python",
      "nbconvert_exporter": "python",
      "pygments_lexer": "ipython2",
      "version": "2.7.6"
    },
    "colab": {
      "provenance": [],
      "machine_shape": "hm",
      "include_colab_link": true
    },
    "gpuClass": "standard",
    "widgets": {
      "application/vnd.jupyter.widget-state+json": {
        "f67065ba80174e5e8eb7fe4c79698828": {
          "model_module": "@jupyter-widgets/controls",
          "model_name": "HBoxModel",
          "model_module_version": "1.5.0",
          "state": {
            "_dom_classes": [],
            "_model_module": "@jupyter-widgets/controls",
            "_model_module_version": "1.5.0",
            "_model_name": "HBoxModel",
            "_view_count": null,
            "_view_module": "@jupyter-widgets/controls",
            "_view_module_version": "1.5.0",
            "_view_name": "HBoxView",
            "box_style": "",
            "children": [
              "IPY_MODEL_2c1c2ac8dfcd42c6b686128a311539e2",
              "IPY_MODEL_8f4953e3f4464b35a438bcf01216c8bb",
              "IPY_MODEL_b9b8b6ee5bce4b8f810678da6d55dab5"
            ],
            "layout": "IPY_MODEL_3a62338377fd4f25864c8fd1d329db8d"
          }
        },
        "2c1c2ac8dfcd42c6b686128a311539e2": {
          "model_module": "@jupyter-widgets/controls",
          "model_name": "HTMLModel",
          "model_module_version": "1.5.0",
          "state": {
            "_dom_classes": [],
            "_model_module": "@jupyter-widgets/controls",
            "_model_module_version": "1.5.0",
            "_model_name": "HTMLModel",
            "_view_count": null,
            "_view_module": "@jupyter-widgets/controls",
            "_view_module_version": "1.5.0",
            "_view_name": "HTMLView",
            "description": "",
            "description_tooltip": null,
            "layout": "IPY_MODEL_9376f46f706f4fd5952a8a55cc4267f0",
            "placeholder": "​",
            "style": "IPY_MODEL_1618f7351c9e4ea4a07fbceac32ef6be",
            "value": "100%"
          }
        },
        "8f4953e3f4464b35a438bcf01216c8bb": {
          "model_module": "@jupyter-widgets/controls",
          "model_name": "FloatProgressModel",
          "model_module_version": "1.5.0",
          "state": {
            "_dom_classes": [],
            "_model_module": "@jupyter-widgets/controls",
            "_model_module_version": "1.5.0",
            "_model_name": "FloatProgressModel",
            "_view_count": null,
            "_view_module": "@jupyter-widgets/controls",
            "_view_module_version": "1.5.0",
            "_view_name": "ProgressView",
            "bar_style": "success",
            "description": "",
            "description_tooltip": null,
            "layout": "IPY_MODEL_16d7b3f9da1a4f3081bef1ea8da5c30b",
            "max": 50,
            "min": 0,
            "orientation": "horizontal",
            "style": "IPY_MODEL_6ee8625ef2f2415e9805bba79c14498a",
            "value": 50
          }
        },
        "b9b8b6ee5bce4b8f810678da6d55dab5": {
          "model_module": "@jupyter-widgets/controls",
          "model_name": "HTMLModel",
          "model_module_version": "1.5.0",
          "state": {
            "_dom_classes": [],
            "_model_module": "@jupyter-widgets/controls",
            "_model_module_version": "1.5.0",
            "_model_name": "HTMLModel",
            "_view_count": null,
            "_view_module": "@jupyter-widgets/controls",
            "_view_module_version": "1.5.0",
            "_view_name": "HTMLView",
            "description": "",
            "description_tooltip": null,
            "layout": "IPY_MODEL_c2f8a0c2849042ae8c9a7e153cc147b5",
            "placeholder": "​",
            "style": "IPY_MODEL_0fbf04ea12444742b0c55883995aa430",
            "value": " 50/50 [19:41&lt;00:00, 23.56s/it]"
          }
        },
        "3a62338377fd4f25864c8fd1d329db8d": {
          "model_module": "@jupyter-widgets/base",
          "model_name": "LayoutModel",
          "model_module_version": "1.2.0",
          "state": {
            "_model_module": "@jupyter-widgets/base",
            "_model_module_version": "1.2.0",
            "_model_name": "LayoutModel",
            "_view_count": null,
            "_view_module": "@jupyter-widgets/base",
            "_view_module_version": "1.2.0",
            "_view_name": "LayoutView",
            "align_content": null,
            "align_items": null,
            "align_self": null,
            "border": null,
            "bottom": null,
            "display": null,
            "flex": null,
            "flex_flow": null,
            "grid_area": null,
            "grid_auto_columns": null,
            "grid_auto_flow": null,
            "grid_auto_rows": null,
            "grid_column": null,
            "grid_gap": null,
            "grid_row": null,
            "grid_template_areas": null,
            "grid_template_columns": null,
            "grid_template_rows": null,
            "height": null,
            "justify_content": null,
            "justify_items": null,
            "left": null,
            "margin": null,
            "max_height": null,
            "max_width": null,
            "min_height": null,
            "min_width": null,
            "object_fit": null,
            "object_position": null,
            "order": null,
            "overflow": null,
            "overflow_x": null,
            "overflow_y": null,
            "padding": null,
            "right": null,
            "top": null,
            "visibility": null,
            "width": null
          }
        },
        "9376f46f706f4fd5952a8a55cc4267f0": {
          "model_module": "@jupyter-widgets/base",
          "model_name": "LayoutModel",
          "model_module_version": "1.2.0",
          "state": {
            "_model_module": "@jupyter-widgets/base",
            "_model_module_version": "1.2.0",
            "_model_name": "LayoutModel",
            "_view_count": null,
            "_view_module": "@jupyter-widgets/base",
            "_view_module_version": "1.2.0",
            "_view_name": "LayoutView",
            "align_content": null,
            "align_items": null,
            "align_self": null,
            "border": null,
            "bottom": null,
            "display": null,
            "flex": null,
            "flex_flow": null,
            "grid_area": null,
            "grid_auto_columns": null,
            "grid_auto_flow": null,
            "grid_auto_rows": null,
            "grid_column": null,
            "grid_gap": null,
            "grid_row": null,
            "grid_template_areas": null,
            "grid_template_columns": null,
            "grid_template_rows": null,
            "height": null,
            "justify_content": null,
            "justify_items": null,
            "left": null,
            "margin": null,
            "max_height": null,
            "max_width": null,
            "min_height": null,
            "min_width": null,
            "object_fit": null,
            "object_position": null,
            "order": null,
            "overflow": null,
            "overflow_x": null,
            "overflow_y": null,
            "padding": null,
            "right": null,
            "top": null,
            "visibility": null,
            "width": null
          }
        },
        "1618f7351c9e4ea4a07fbceac32ef6be": {
          "model_module": "@jupyter-widgets/controls",
          "model_name": "DescriptionStyleModel",
          "model_module_version": "1.5.0",
          "state": {
            "_model_module": "@jupyter-widgets/controls",
            "_model_module_version": "1.5.0",
            "_model_name": "DescriptionStyleModel",
            "_view_count": null,
            "_view_module": "@jupyter-widgets/base",
            "_view_module_version": "1.2.0",
            "_view_name": "StyleView",
            "description_width": ""
          }
        },
        "16d7b3f9da1a4f3081bef1ea8da5c30b": {
          "model_module": "@jupyter-widgets/base",
          "model_name": "LayoutModel",
          "model_module_version": "1.2.0",
          "state": {
            "_model_module": "@jupyter-widgets/base",
            "_model_module_version": "1.2.0",
            "_model_name": "LayoutModel",
            "_view_count": null,
            "_view_module": "@jupyter-widgets/base",
            "_view_module_version": "1.2.0",
            "_view_name": "LayoutView",
            "align_content": null,
            "align_items": null,
            "align_self": null,
            "border": null,
            "bottom": null,
            "display": null,
            "flex": null,
            "flex_flow": null,
            "grid_area": null,
            "grid_auto_columns": null,
            "grid_auto_flow": null,
            "grid_auto_rows": null,
            "grid_column": null,
            "grid_gap": null,
            "grid_row": null,
            "grid_template_areas": null,
            "grid_template_columns": null,
            "grid_template_rows": null,
            "height": null,
            "justify_content": null,
            "justify_items": null,
            "left": null,
            "margin": null,
            "max_height": null,
            "max_width": null,
            "min_height": null,
            "min_width": null,
            "object_fit": null,
            "object_position": null,
            "order": null,
            "overflow": null,
            "overflow_x": null,
            "overflow_y": null,
            "padding": null,
            "right": null,
            "top": null,
            "visibility": null,
            "width": null
          }
        },
        "6ee8625ef2f2415e9805bba79c14498a": {
          "model_module": "@jupyter-widgets/controls",
          "model_name": "ProgressStyleModel",
          "model_module_version": "1.5.0",
          "state": {
            "_model_module": "@jupyter-widgets/controls",
            "_model_module_version": "1.5.0",
            "_model_name": "ProgressStyleModel",
            "_view_count": null,
            "_view_module": "@jupyter-widgets/base",
            "_view_module_version": "1.2.0",
            "_view_name": "StyleView",
            "bar_color": null,
            "description_width": ""
          }
        },
        "c2f8a0c2849042ae8c9a7e153cc147b5": {
          "model_module": "@jupyter-widgets/base",
          "model_name": "LayoutModel",
          "model_module_version": "1.2.0",
          "state": {
            "_model_module": "@jupyter-widgets/base",
            "_model_module_version": "1.2.0",
            "_model_name": "LayoutModel",
            "_view_count": null,
            "_view_module": "@jupyter-widgets/base",
            "_view_module_version": "1.2.0",
            "_view_name": "LayoutView",
            "align_content": null,
            "align_items": null,
            "align_self": null,
            "border": null,
            "bottom": null,
            "display": null,
            "flex": null,
            "flex_flow": null,
            "grid_area": null,
            "grid_auto_columns": null,
            "grid_auto_flow": null,
            "grid_auto_rows": null,
            "grid_column": null,
            "grid_gap": null,
            "grid_row": null,
            "grid_template_areas": null,
            "grid_template_columns": null,
            "grid_template_rows": null,
            "height": null,
            "justify_content": null,
            "justify_items": null,
            "left": null,
            "margin": null,
            "max_height": null,
            "max_width": null,
            "min_height": null,
            "min_width": null,
            "object_fit": null,
            "object_position": null,
            "order": null,
            "overflow": null,
            "overflow_x": null,
            "overflow_y": null,
            "padding": null,
            "right": null,
            "top": null,
            "visibility": null,
            "width": null
          }
        },
        "0fbf04ea12444742b0c55883995aa430": {
          "model_module": "@jupyter-widgets/controls",
          "model_name": "DescriptionStyleModel",
          "model_module_version": "1.5.0",
          "state": {
            "_model_module": "@jupyter-widgets/controls",
            "_model_module_version": "1.5.0",
            "_model_name": "DescriptionStyleModel",
            "_view_count": null,
            "_view_module": "@jupyter-widgets/base",
            "_view_module_version": "1.2.0",
            "_view_name": "StyleView",
            "description_width": ""
          }
        }
      }
    },
    "accelerator": "GPU"
  },
  "nbformat": 4,
  "nbformat_minor": 0
}